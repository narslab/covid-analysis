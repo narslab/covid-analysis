{
 "cells": [
  {
   "cell_type": "code",
   "execution_count": 7,
   "metadata": {},
   "outputs": [
    {
     "name": "stderr",
     "output_type": "stream",
     "text": [
      "Registering fonts with R\n",
      "\n"
     ]
    }
   ],
   "source": [
    "#library(psych)\n",
    "#library(xlsx)\n",
    "library(cluster)\n",
    "#library(RColorBrewer)\n",
    "library(data.table)\n",
    "library(dendextend)\n",
    "library(ggplot2)\n",
    "#library(NbClust)\n",
    "library(scales)\n",
    "library(extrafont)\n",
    "library(gridExtra)\n",
    "library(stats)"
   ]
  },
  {
   "cell_type": "code",
   "execution_count": 18,
   "metadata": {},
   "outputs": [
    {
     "data": {
      "text/html": [
       "<strong>png:</strong> 2"
      ],
      "text/latex": [
       "\\textbf{png:} 2"
      ],
      "text/markdown": [
       "**png:** 2"
      ],
      "text/plain": [
       "png \n",
       "  2 "
      ]
     },
     "metadata": {},
     "output_type": "display_data"
    },
    {
     "name": "stderr",
     "output_type": "stream",
     "text": [
      "Warning message:\n",
      "“`panel.margin` is deprecated. Please use `panel.spacing` property instead”\n"
     ]
    },
    {
     "data": {
      "text/html": [
       "<table>\n",
       "<caption>A data.frame: 6 × 2</caption>\n",
       "<thead>\n",
       "\t<tr><th></th><th scope=col>cluster</th><th scope=col>states</th></tr>\n",
       "\t<tr><th></th><th scope=col>&lt;int&gt;</th><th scope=col>&lt;fct&gt;</th></tr>\n",
       "</thead>\n",
       "<tbody>\n",
       "\t<tr><th scope=row>Argentina</th><td>1</td><td>1</td></tr>\n",
       "\t<tr><th scope=row>Australia</th><td>2</td><td>2</td></tr>\n",
       "\t<tr><th scope=row>Austria</th><td>1</td><td>3</td></tr>\n",
       "\t<tr><th scope=row>Belgium</th><td>1</td><td>4</td></tr>\n",
       "\t<tr><th scope=row>Brazil</th><td>1</td><td>5</td></tr>\n",
       "\t<tr><th scope=row>Bulgaria</th><td>2</td><td>6</td></tr>\n",
       "</tbody>\n",
       "</table>\n"
      ],
      "text/latex": [
       "A data.frame: 6 × 2\n",
       "\\begin{tabular}{r|ll}\n",
       "  & cluster & states\\\\\n",
       "  & <int> & <fct>\\\\\n",
       "\\hline\n",
       "\tArgentina & 1 & 1\\\\\n",
       "\tAustralia & 2 & 2\\\\\n",
       "\tAustria & 1 & 3\\\\\n",
       "\tBelgium & 1 & 4\\\\\n",
       "\tBrazil & 1 & 5\\\\\n",
       "\tBulgaria & 2 & 6\\\\\n",
       "\\end{tabular}\n"
      ],
      "text/markdown": [
       "\n",
       "A data.frame: 6 × 2\n",
       "\n",
       "| <!--/--> | cluster &lt;int&gt; | states &lt;fct&gt; |\n",
       "|---|---|---|\n",
       "| Argentina | 1 | 1 |\n",
       "| Australia | 2 | 2 |\n",
       "| Austria | 1 | 3 |\n",
       "| Belgium | 1 | 4 |\n",
       "| Brazil | 1 | 5 |\n",
       "| Bulgaria | 2 | 6 |\n",
       "\n"
      ],
      "text/plain": [
       "          cluster states\n",
       "Argentina 1       1     \n",
       "Australia 2       2     \n",
       "Austria   1       3     \n",
       "Belgium   1       4     \n",
       "Brazil    1       5     \n",
       "Bulgaria  2       6     "
      ]
     },
     "metadata": {},
     "output_type": "display_data"
    },
    {
     "data": {
      "text/plain": [
       "TableGrob (12 x 9) \"layout\": 18 grobs\n",
       "    z         cells       name                                          grob\n",
       "1   0 ( 1-12, 1- 9) background               rect[plot.background..rect.194]\n",
       "2   5 ( 6- 6, 4- 4)     spacer                                zeroGrob[NULL]\n",
       "3   7 ( 7- 7, 4- 4)     axis-l           absoluteGrob[GRID.absoluteGrob.182]\n",
       "4   3 ( 8- 8, 4- 4)     spacer                                zeroGrob[NULL]\n",
       "5   6 ( 6- 6, 5- 5)     axis-t                                zeroGrob[NULL]\n",
       "6   1 ( 7- 7, 5- 5)      panel                      gTree[panel-1.gTree.176]\n",
       "7   9 ( 8- 8, 5- 5)     axis-b           absoluteGrob[GRID.absoluteGrob.179]\n",
       "8   4 ( 6- 6, 6- 6)     spacer                                zeroGrob[NULL]\n",
       "9   8 ( 7- 7, 6- 6)     axis-r                                zeroGrob[NULL]\n",
       "10  2 ( 8- 8, 6- 6)     spacer                                zeroGrob[NULL]\n",
       "11 10 ( 5- 5, 5- 5)     xlab-t                                zeroGrob[NULL]\n",
       "12 11 ( 9- 9, 5- 5)     xlab-b titleGrob[axis.title.x.bottom..titleGrob.185]\n",
       "13 12 ( 7- 7, 3- 3)     ylab-l   titleGrob[axis.title.y.left..titleGrob.188]\n",
       "14 13 ( 7- 7, 7- 7)     ylab-r                                zeroGrob[NULL]\n",
       "15 14 ( 4- 4, 5- 5)   subtitle         zeroGrob[plot.subtitle..zeroGrob.190]\n",
       "16 15 ( 3- 3, 5- 5)      title            zeroGrob[plot.title..zeroGrob.189]\n",
       "17 16 (10-10, 5- 5)    caption          zeroGrob[plot.caption..zeroGrob.192]\n",
       "18 17 ( 2- 2, 2- 2)        tag              zeroGrob[plot.tag..zeroGrob.191]"
      ]
     },
     "metadata": {},
     "output_type": "display_data"
    },
    {
     "data": {
      "text/html": [
       "<strong>png:</strong> 2"
      ],
      "text/latex": [
       "\\textbf{png:} 2"
      ],
      "text/markdown": [
       "**png:** 2"
      ],
      "text/plain": [
       "png \n",
       "  2 "
      ]
     },
     "metadata": {},
     "output_type": "display_data"
    }
   ],
   "source": [
    "d <- read.csv('disimilarity-matrix.csv',row.names = 1)\n",
    "num_clust = 5\n",
    "clusterFit <- function(dm, m) {\n",
    "  fit <- hclust(as.dist(dm), method=m) # apply hierarchical clustering \n",
    "  #fit$labels = f8scores$city\n",
    "  return(fit)\n",
    "}\n",
    "\n",
    "## Get clustering for 8 and 9-factor solutions\n",
    "results = clusterFit(d, \"ward.D2\")\n",
    "\n",
    "#optClustWardScaled9 <- NbClust(as.data.frame(scaled.f9scores),distance=\"manhattan\", method=\"ward.D2\",min.nc=10,max.nc=15,index=\"gap\")\n",
    "#optClustWardScaled9 <- NbClust(diss=dis9scaled.mat, method=\"ward.D2\",min.nc=7,index=\"all\")\n",
    "\n",
    "\n",
    "## Group countries into clusters based on number of clusters desired\n",
    "getClusters <- function (clusfit, k, labels) {\n",
    "  #cluster <- dendextend:::cutree(clusfit, k, order_clusters_as_data = TRUE)\n",
    "  cluster = cutree(clusfit, k)\n",
    "  clusters = data.frame(cluster)\n",
    "  row.names(clusters) = labels\n",
    "  return(clusters)\n",
    "}\n",
    "\n",
    "clustered.data <- getClusters(results, num_clust, row.names(d)) #f9scores only for names!!\n",
    "clustered.data.ordered <- clustered.data[order(clustered.data$cluster),,drop=FALSE]\n",
    "write.csv(clustered.data.ordered, \"results/country-clusters.csv\")\n",
    "\n",
    "colors = c( # '#ffff99', ##d8ac93', # '#ffff99', #or yellowversions \n",
    "    '#66c2a5',\n",
    "    '#fc8d62',\n",
    "    '#8da0cb',\n",
    "    '#e78ac3',\n",
    "    '#a6d854',\n",
    "    '#ffd92f',\n",
    "    '#e5c494')\n",
    "\n",
    "colors = colors[1:num_clust]\n",
    "\n",
    "dendtypolist = c('C1', 'C2', 'C3', 'C4', 'C5', 'C6', 'C7')\n",
    "\n",
    "\n",
    "##################################################################################################################\n",
    "#### Plot dendrogram\n",
    "##################################################################################################################\n",
    "# https://gist.github.com/jslefche/eff85ef06b4705e6efbc\n",
    "theme_black = function(base_size = 12, base_family = \"\") {\n",
    "  \n",
    "  theme_grey(base_size = base_size, base_family = base_family) %+replace%\n",
    "    \n",
    "    theme(\n",
    "      # Specify axis options\n",
    "      axis.line = element_blank(),  \n",
    "      axis.text.x = element_text(size = base_size*0.8, color = \"white\", lineheight = 0.9),  \n",
    "      axis.text.y = element_text(size = base_size*0.8, color = \"white\", lineheight = 0.9),  \n",
    "      axis.ticks = element_line(color = \"white\", size  =  0.2),  \n",
    "      axis.title.x = element_text(size = base_size, color = \"white\", margin = margin(0, 10, 0, 0)),  \n",
    "      axis.title.y = element_text(size = base_size, color = \"white\", angle = 90, margin = margin(0, 10, 0, 0)),  \n",
    "      axis.ticks.length = unit(0.3, \"lines\"),   \n",
    "      # Specify legend options\n",
    "      legend.background = element_rect(color = NA, fill = \"black\"),  \n",
    "      legend.key = element_rect(color = \"white\",  fill = \"black\"),  \n",
    "      legend.key.size = unit(1.2, \"lines\"),  \n",
    "      legend.key.height = NULL,  \n",
    "      legend.key.width = NULL,      \n",
    "      legend.text = element_text(size = base_size*0.8, color = \"white\"),  \n",
    "      legend.title = element_text(size = base_size*0.8, face = \"bold\", hjust = 0, color = \"white\"),  \n",
    "      legend.position = \"right\",  \n",
    "      legend.text.align = NULL,  \n",
    "      legend.title.align = NULL,  \n",
    "      legend.direction = \"vertical\",  \n",
    "      legend.box = NULL, \n",
    "      # Specify panel options\n",
    "      panel.background = element_rect(fill = \"black\", color  =  NA),  \n",
    "      panel.border = element_rect(fill = NA, color = \"white\"),  \n",
    "      panel.grid.major = element_line(color = \"grey35\"),  \n",
    "      panel.grid.minor = element_line(color = \"grey20\"),  \n",
    "      panel.margin = unit(0.5, \"lines\"),   \n",
    "      # Specify facetting options\n",
    "      strip.background = element_rect(fill = \"grey30\", color = \"grey10\"),  \n",
    "      strip.text.x = element_text(size = base_size*0.8, color = \"white\"),  \n",
    "      strip.text.y = element_text(size = base_size*0.8, color = \"white\",angle = -90),  \n",
    "      # Specify plot options\n",
    "      plot.background = element_rect(color = \"black\", fill = \"black\"),  \n",
    "      plot.title = element_text(size = base_size*1.2, color = \"white\"),  \n",
    "      plot.margin = unit(rep(1, 4), \"lines\")\n",
    "      \n",
    "    )\n",
    "  \n",
    "}\n",
    "plotD <- function (clusfit,kk,meth,labels) \n",
    "{\n",
    "  dend <- as.dendrogram(clusfit)\n",
    "  #dend <- reorder(dend, 1:13, mean)\n",
    "  nodePar <- list(lab.cex = 0.8, pch = c(NA, NA), cex = 1.6,font=2)\n",
    "  labels(dend) <- as.character(labels[clusfit$order])\n",
    "  #dend <- set(dend, \"labels_cex\", .45)\n",
    "  d1=color_branches(dend,k=kk,col = colors) # brewer.pal(kk,\"Paired\"))\n",
    "  dcol <- get_leaves_branches_col(d1)\n",
    "  d1 <- color_labels(d1,k=kk,col=colors) #brewer.pal(kk,\"Paired\"))\n",
    "  png(file=paste0(\"results/Dendrogram-\",kk,\"-clusters-\",\"-Method-\",meth,\".png\"),family=\"CM Sans\", width=1200,height=1000, res=100) #5300 #2600\n",
    "  plot(d1)\n",
    "  #colored_bars(dcol, dend, rowLabels = c(\"13 Typologies\"))\n",
    "  dev.off()\n",
    "}\n",
    "\n",
    "plotD(results,num_clust,\"Ward.D2\",row.names(d))\n",
    "\n",
    "# plotDgg <- function (clusfit,kk,meth,scores,ff) \n",
    "# {\n",
    "#   dend <- as.dendrogram(clusfit)\n",
    "#   dend <- assign_values_to_branches_edgePar(dend=dend, value = \"white\", edgePar = \"col\")\n",
    "#   dend <- color_branches(dend,k=kk,col = colors) # brewer.pal(kk,\"Paired\"))\n",
    "#   ggd1 <- as.ggdend(dend)\n",
    "#   base <- ggplot(ggd1,labels=FALSE)\n",
    "#   base + \n",
    "#     geom_hline(yintercept=6.2, color=\"gray\",lty=2,lwd=1) + \n",
    "#     geom_hline(yintercept=3.6, color=\"gray\",lty=3,lwd=1) + \n",
    "#     theme_black() +\n",
    "#     theme(panel.border = element_blank(),\n",
    "#             panel.grid.major = element_blank(),\n",
    "#             panel.grid.minor = element_blank(),\n",
    "#             axis.title=element_blank(),\n",
    "#             axis.ticks=element_blank(),\n",
    "#             axis.text=element_blank(),\n",
    "#             legend.position=c(0,1)\n",
    "#           )\n",
    "# }\n",
    "# p1 <- plotDgg(results,num_clust,\"Ward.D2\",row.names(d))\n",
    "\n",
    "# idx = c(1:length(row.names(d)))\n",
    "# df2<-data.frame(cluster=cutree(results,num_clust) ,states=factor(idx)) #,levels=idx)) #[clusfit9scaled.ward$order]))\n",
    "# head(df2)\n",
    "# df3 <- df2[order(df2$cluster),]\n",
    "# df3$states <- factor(1:length(row.names(d)))\n",
    "# df3$cluster <- factor(df3$cluster, labels = dendtypolist[1:num_clust])\n",
    "\n",
    "# p2 <- ggplot(df3,aes(states,y=1,fill=factor(cluster)))+\n",
    "#   geom_tile()+\n",
    "#   #scale_y_continuous(expand=c(0,0)) + \n",
    "#   scale_fill_manual(values = colors,breaks=dendtypolist[1:num_clust])+  \n",
    "#   #scale_fill_discrete( #+ scale_fill_manual(values = colors)+\n",
    "#   theme(axis.title=element_blank(),\n",
    "#         axis.ticks=element_blank(),\n",
    "#         axis.text=element_blank(),\n",
    "#         legend.position=c(.85,9.3),\n",
    "#         legend.title=element_blank(),\n",
    "#         legend.text = element_text(colour=\"white\", size=16),\n",
    "#         legend.key.size = unit(1.5, 'lines'),\n",
    "#         legend.key = element_rect(fill = \"gray\", colour = \"transparent\"),\n",
    "#         legend.background = element_rect(fill = \"transparent\", colour = \"transparent\")\n",
    "#         )\n",
    "\n",
    "# ggplotGrob(p1)\n",
    "# #gp2<-ggplotGrob(p2)  \n",
    "\n",
    "# #maxWidth = grid::unit.pmax(gp1$widths[2:5], gp2$widths[2:5])\n",
    "# #gp1$widths[2:5] <- as.list(maxWidth)\n",
    "# #gp2$widths[2:5] <- as.list(maxWidth)\n",
    "\n",
    "# loadfonts()\n",
    "# png(file=paste0(\"results/Dendrogram-GG-\",num_clust,\"-clusters-\",\"-Method-\",\"Ward.D2\",\".png\"),family=\"CM Sans\",width=1200,height=1000,res=100)\n",
    "# #grid.arrange(gp1, gp2, ncol=1,heights=c(9/10,1/10))\n",
    "\n",
    "# dev.off()"
   ]
  },
  {
   "cell_type": "code",
   "execution_count": null,
   "metadata": {},
   "outputs": [],
   "source": []
  }
 ],
 "metadata": {
  "kernelspec": {
   "display_name": "R",
   "language": "R",
   "name": "ir"
  },
  "language_info": {
   "codemirror_mode": "r",
   "file_extension": ".r",
   "mimetype": "text/x-r-source",
   "name": "R",
   "pygments_lexer": "r",
   "version": "4.0.2"
  }
 },
 "nbformat": 4,
 "nbformat_minor": 4
}
