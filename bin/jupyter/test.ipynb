{
 "cells": [
  {
   "cell_type": "code",
   "execution_count": 6,
   "metadata": {},
   "outputs": [
    {
     "name": "stdout",
     "output_type": "stream",
     "text": [
      "country_region_code        country_region sub_region_1 sub_region_2 iso_3166_2_code  census_fips_code        date  retail_and_recreation_percent_change_from_baseline  grocery_and_pharmacy_percent_change_from_baseline  parks_percent_change_from_baseline  transit_stations_percent_change_from_baseline  workplaces_percent_change_from_baseline  residential_percent_change_from_baseline\n",
      "                AE  United Arab Emirates          NaN          NaN             NaN               NaN  2020-02-15                                                0.0                                                 4.0                                 5.0                                            0.0                                      2.0                                       1.0\n",
      "                AE  United Arab Emirates          NaN          NaN             NaN               NaN  2020-02-16                                                1.0                                                 4.0                                 4.0                                            1.0                                      2.0                                       1.0\n",
      "                AE  United Arab Emirates          NaN          NaN             NaN               NaN  2020-02-17                                               -1.0                                                 1.0                                 5.0                                            1.0                                      2.0                                       1.0\n",
      "                AE  United Arab Emirates          NaN          NaN             NaN               NaN  2020-02-18                                               -2.0                                                 1.0                                 5.0                                            0.0                                      2.0                                       1.0\n",
      "                AE  United Arab Emirates          NaN          NaN             NaN               NaN  2020-02-19                                               -2.0                                                 0.0                                 4.0                                           -1.0                                      2.0                                       1.0\n",
      "                AE  United Arab Emirates          NaN          NaN             NaN               NaN  2020-02-20                                               -2.0                                                 1.0                                 6.0                                            1.0                                      1.0                                       1.0\n",
      "                AE  United Arab Emirates          NaN          NaN             NaN               NaN  2020-02-21                                               -3.0                                                 2.0                                 6.0                                            0.0                                     -1.0                                       1.0\n",
      "                AE  United Arab Emirates          NaN          NaN             NaN               NaN  2020-02-22                                               -2.0                                                 2.0                                 4.0                                           -2.0                                      3.0                                       1.0\n",
      "                AE  United Arab Emirates          NaN          NaN             NaN               NaN  2020-02-23                                               -1.0                                                 3.0                                 3.0                                           -1.0                                      4.0                                       1.0\n",
      "                AE  United Arab Emirates          NaN          NaN             NaN               NaN  2020-02-24                                               -3.0                                                 0.0                                 5.0                                           -1.0                                      3.0                                       1.0\n"
     ]
    }
   ],
   "source": [
    "import pandas as pd\n",
    "import numpy as np\n",
    "import time\n",
    "import datetime\n",
    "# install plotly thru conda if jupyter cannot locate the module thru pip\n",
    "import plotly.express as px\n",
    "import plotly.graph_objects as go #object properties (figure)\n",
    "from ipywidgets import interact\n",
    "from tabulate import tabulate\n",
    "from html import escape\n",
    "\n",
    "# loading data from the source:\n",
    "\n",
    "applemobtrends_df = pd.read_csv('applemobilitytrends-2020-07-14.csv')\n",
    "googlemobtrends_df = pd.read_csv('Global_Mobility_Report.csv')\n",
    "\n",
    "# helper functions\n",
    "\n",
    "def norm(val):\n",
    "    val = (val - val.mean()) / val.std()\n",
    "    return val\n",
    "\n",
    "def format_int(val):\n",
    "    val = '{:,}'.format(val)\n",
    "    return val\n",
    "\n",
    "    \n",
    "# renaming the df column names to lowercase\n",
    "applemobtrends_df.columns = map(str.lower, applemobtrends_df.columns)\n",
    "googlemobtrends_df.columns = map(str.lower, googlemobtrends_df.columns)\n",
    "\n",
    "# changing province/state to state and country/region to country\n",
    "googlemobtrends_df = googlemobtrends_df.rename(columns={'province/state': 'state', 'country/region': 'country'})\n",
    "print(googlemobtrends_df.head(n=10).to_string(index=False))"
   ]
  },
  {
   "cell_type": "code",
   "execution_count": null,
   "metadata": {},
   "outputs": [],
   "source": []
  }
 ],
 "metadata": {
  "kernelspec": {
   "display_name": "Python 3",
   "language": "python",
   "name": "python3"
  },
  "language_info": {
   "codemirror_mode": {
    "name": "ipython",
    "version": 3
   },
   "file_extension": ".py",
   "mimetype": "text/x-python",
   "name": "python",
   "nbconvert_exporter": "python",
   "pygments_lexer": "ipython3",
   "version": "3.8.6"
  }
 },
 "nbformat": 4,
 "nbformat_minor": 4
}
