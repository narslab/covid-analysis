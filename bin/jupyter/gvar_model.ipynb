{
 "cells": [
  {
   "cell_type": "code",
   "execution_count": 135,
   "metadata": {},
   "outputs": [],
   "source": [
    "library(BGVAR) #load library\n",
    "library(ggplot2)\n",
    "library(zoo)\n",
    "library(janitor) #rowtonames function"
   ]
  },
  {
   "cell_type": "markdown",
   "metadata": {},
   "source": [
    "## Load Data"
   ]
  },
  {
   "cell_type": "code",
   "execution_count": 227,
   "metadata": {},
   "outputs": [],
   "source": [
    "# Read in the data files\n",
    "df_covid = read.csv('../../data/tidy/cases_deaths_concat.csv')\n",
    "df_google = read.csv('../../data/tidy/google_activity.csv')\n",
    "df_interv = read.csv('../../data/tidy/govt_interventions.csv')\n",
    "df_deter = read.csv('../../data/tidy/deterministic.csv', row.names = 1 )"
   ]
  },
  {
   "cell_type": "code",
   "execution_count": 228,
   "metadata": {},
   "outputs": [
    {
     "data": {
      "text/html": [
       "<table>\n",
       "<caption>A data.frame: 6 × 201</caption>\n",
       "<thead>\n",
       "\t<tr><th></th><th scope=col>X</th><th scope=col>iso</th><th scope=col>X2.15.2020</th><th scope=col>X2.16.2020</th><th scope=col>X2.17.2020</th><th scope=col>X2.18.2020</th><th scope=col>X2.19.2020</th><th scope=col>X2.20.2020</th><th scope=col>X2.21.2020</th><th scope=col>X2.22.2020</th><th scope=col>⋯</th><th scope=col>X8.22.2020</th><th scope=col>X8.23.2020</th><th scope=col>X8.24.2020</th><th scope=col>X8.25.2020</th><th scope=col>X8.26.2020</th><th scope=col>X8.27.2020</th><th scope=col>X8.28.2020</th><th scope=col>X8.29.2020</th><th scope=col>X8.30.2020</th><th scope=col>X8.31.2020</th></tr>\n",
       "\t<tr><th></th><th scope=col>&lt;chr&gt;</th><th scope=col>&lt;chr&gt;</th><th scope=col>&lt;int&gt;</th><th scope=col>&lt;int&gt;</th><th scope=col>&lt;int&gt;</th><th scope=col>&lt;int&gt;</th><th scope=col>&lt;int&gt;</th><th scope=col>&lt;int&gt;</th><th scope=col>&lt;int&gt;</th><th scope=col>&lt;int&gt;</th><th scope=col>⋯</th><th scope=col>&lt;int&gt;</th><th scope=col>&lt;int&gt;</th><th scope=col>&lt;int&gt;</th><th scope=col>&lt;int&gt;</th><th scope=col>&lt;int&gt;</th><th scope=col>&lt;int&gt;</th><th scope=col>&lt;int&gt;</th><th scope=col>&lt;int&gt;</th><th scope=col>&lt;int&gt;</th><th scope=col>&lt;int&gt;</th></tr>\n",
       "</thead>\n",
       "<tbody>\n",
       "\t<tr><th scope=row>1</th><td>cases</td><td>ALB</td><td> 0</td><td> 0</td><td> 0</td><td> 0</td><td> 0</td><td> 0</td><td> 0</td><td> 0</td><td>⋯</td><td>  8275</td><td>  8427</td><td>  8605</td><td>  8759</td><td>  8927</td><td>  9083</td><td>  9195</td><td>  9279</td><td>  9380</td><td>  9513</td></tr>\n",
       "\t<tr><th scope=row>2</th><td>cases</td><td>ARE</td><td> 8</td><td> 9</td><td> 9</td><td> 9</td><td> 9</td><td> 9</td><td> 9</td><td>13</td><td>⋯</td><td> 66617</td><td> 67007</td><td> 67282</td><td> 67621</td><td> 68020</td><td> 68511</td><td> 68901</td><td> 69328</td><td> 69690</td><td> 70231</td></tr>\n",
       "\t<tr><th scope=row>3</th><td>cases</td><td>ARG</td><td> 0</td><td> 0</td><td> 0</td><td> 0</td><td> 0</td><td> 0</td><td> 0</td><td> 0</td><td>⋯</td><td>336802</td><td>342154</td><td>350867</td><td>359638</td><td>370188</td><td>380292</td><td>392009</td><td>401239</td><td>408426</td><td>417735</td></tr>\n",
       "\t<tr><th scope=row>4</th><td>cases</td><td>AUS</td><td>15</td><td>15</td><td>15</td><td>15</td><td>15</td><td>15</td><td>15</td><td>15</td><td>⋯</td><td> 24811</td><td> 24915</td><td> 25053</td><td> 25204</td><td> 25322</td><td> 25448</td><td> 25547</td><td> 25670</td><td> 25746</td><td> 25819</td></tr>\n",
       "\t<tr><th scope=row>5</th><td>cases</td><td>AUT</td><td> 0</td><td> 0</td><td> 0</td><td> 0</td><td> 0</td><td> 0</td><td> 0</td><td> 0</td><td>⋯</td><td> 25062</td><td> 25253</td><td> 25495</td><td> 25706</td><td> 26033</td><td> 26361</td><td> 26590</td><td> 26985</td><td> 27166</td><td> 27438</td></tr>\n",
       "\t<tr><th scope=row>6</th><td>cases</td><td>BEL</td><td> 1</td><td> 1</td><td> 1</td><td> 1</td><td> 1</td><td> 1</td><td> 1</td><td> 1</td><td>⋯</td><td> 81468</td><td> 81936</td><td> 82092</td><td> 82447</td><td> 83030</td><td> 83500</td><td> 83952</td><td> 84599</td><td> 85042</td><td> 85236</td></tr>\n",
       "</tbody>\n",
       "</table>\n"
      ],
      "text/latex": [
       "A data.frame: 6 × 201\n",
       "\\begin{tabular}{r|lllllllllllllllllllll}\n",
       "  & X & iso & X2.15.2020 & X2.16.2020 & X2.17.2020 & X2.18.2020 & X2.19.2020 & X2.20.2020 & X2.21.2020 & X2.22.2020 & ⋯ & X8.22.2020 & X8.23.2020 & X8.24.2020 & X8.25.2020 & X8.26.2020 & X8.27.2020 & X8.28.2020 & X8.29.2020 & X8.30.2020 & X8.31.2020\\\\\n",
       "  & <chr> & <chr> & <int> & <int> & <int> & <int> & <int> & <int> & <int> & <int> & ⋯ & <int> & <int> & <int> & <int> & <int> & <int> & <int> & <int> & <int> & <int>\\\\\n",
       "\\hline\n",
       "\t1 & cases & ALB &  0 &  0 &  0 &  0 &  0 &  0 &  0 &  0 & ⋯ &   8275 &   8427 &   8605 &   8759 &   8927 &   9083 &   9195 &   9279 &   9380 &   9513\\\\\n",
       "\t2 & cases & ARE &  8 &  9 &  9 &  9 &  9 &  9 &  9 & 13 & ⋯ &  66617 &  67007 &  67282 &  67621 &  68020 &  68511 &  68901 &  69328 &  69690 &  70231\\\\\n",
       "\t3 & cases & ARG &  0 &  0 &  0 &  0 &  0 &  0 &  0 &  0 & ⋯ & 336802 & 342154 & 350867 & 359638 & 370188 & 380292 & 392009 & 401239 & 408426 & 417735\\\\\n",
       "\t4 & cases & AUS & 15 & 15 & 15 & 15 & 15 & 15 & 15 & 15 & ⋯ &  24811 &  24915 &  25053 &  25204 &  25322 &  25448 &  25547 &  25670 &  25746 &  25819\\\\\n",
       "\t5 & cases & AUT &  0 &  0 &  0 &  0 &  0 &  0 &  0 &  0 & ⋯ &  25062 &  25253 &  25495 &  25706 &  26033 &  26361 &  26590 &  26985 &  27166 &  27438\\\\\n",
       "\t6 & cases & BEL &  1 &  1 &  1 &  1 &  1 &  1 &  1 &  1 & ⋯ &  81468 &  81936 &  82092 &  82447 &  83030 &  83500 &  83952 &  84599 &  85042 &  85236\\\\\n",
       "\\end{tabular}\n"
      ],
      "text/markdown": [
       "\n",
       "A data.frame: 6 × 201\n",
       "\n",
       "| <!--/--> | X &lt;chr&gt; | iso &lt;chr&gt; | X2.15.2020 &lt;int&gt; | X2.16.2020 &lt;int&gt; | X2.17.2020 &lt;int&gt; | X2.18.2020 &lt;int&gt; | X2.19.2020 &lt;int&gt; | X2.20.2020 &lt;int&gt; | X2.21.2020 &lt;int&gt; | X2.22.2020 &lt;int&gt; | ⋯ ⋯ | X8.22.2020 &lt;int&gt; | X8.23.2020 &lt;int&gt; | X8.24.2020 &lt;int&gt; | X8.25.2020 &lt;int&gt; | X8.26.2020 &lt;int&gt; | X8.27.2020 &lt;int&gt; | X8.28.2020 &lt;int&gt; | X8.29.2020 &lt;int&gt; | X8.30.2020 &lt;int&gt; | X8.31.2020 &lt;int&gt; |\n",
       "|---|---|---|---|---|---|---|---|---|---|---|---|---|---|---|---|---|---|---|---|---|---|\n",
       "| 1 | cases | ALB |  0 |  0 |  0 |  0 |  0 |  0 |  0 |  0 | ⋯ |   8275 |   8427 |   8605 |   8759 |   8927 |   9083 |   9195 |   9279 |   9380 |   9513 |\n",
       "| 2 | cases | ARE |  8 |  9 |  9 |  9 |  9 |  9 |  9 | 13 | ⋯ |  66617 |  67007 |  67282 |  67621 |  68020 |  68511 |  68901 |  69328 |  69690 |  70231 |\n",
       "| 3 | cases | ARG |  0 |  0 |  0 |  0 |  0 |  0 |  0 |  0 | ⋯ | 336802 | 342154 | 350867 | 359638 | 370188 | 380292 | 392009 | 401239 | 408426 | 417735 |\n",
       "| 4 | cases | AUS | 15 | 15 | 15 | 15 | 15 | 15 | 15 | 15 | ⋯ |  24811 |  24915 |  25053 |  25204 |  25322 |  25448 |  25547 |  25670 |  25746 |  25819 |\n",
       "| 5 | cases | AUT |  0 |  0 |  0 |  0 |  0 |  0 |  0 |  0 | ⋯ |  25062 |  25253 |  25495 |  25706 |  26033 |  26361 |  26590 |  26985 |  27166 |  27438 |\n",
       "| 6 | cases | BEL |  1 |  1 |  1 |  1 |  1 |  1 |  1 |  1 | ⋯ |  81468 |  81936 |  82092 |  82447 |  83030 |  83500 |  83952 |  84599 |  85042 |  85236 |\n",
       "\n"
      ],
      "text/plain": [
       "  X     iso X2.15.2020 X2.16.2020 X2.17.2020 X2.18.2020 X2.19.2020 X2.20.2020\n",
       "1 cases ALB  0          0          0          0          0          0        \n",
       "2 cases ARE  8          9          9          9          9          9        \n",
       "3 cases ARG  0          0          0          0          0          0        \n",
       "4 cases AUS 15         15         15         15         15         15        \n",
       "5 cases AUT  0          0          0          0          0          0        \n",
       "6 cases BEL  1          1          1          1          1          1        \n",
       "  X2.21.2020 X2.22.2020 ⋯ X8.22.2020 X8.23.2020 X8.24.2020 X8.25.2020\n",
       "1  0          0         ⋯   8275       8427       8605       8759    \n",
       "2  9         13         ⋯  66617      67007      67282      67621    \n",
       "3  0          0         ⋯ 336802     342154     350867     359638    \n",
       "4 15         15         ⋯  24811      24915      25053      25204    \n",
       "5  0          0         ⋯  25062      25253      25495      25706    \n",
       "6  1          1         ⋯  81468      81936      82092      82447    \n",
       "  X8.26.2020 X8.27.2020 X8.28.2020 X8.29.2020 X8.30.2020 X8.31.2020\n",
       "1   8927       9083       9195       9279       9380       9513    \n",
       "2  68020      68511      68901      69328      69690      70231    \n",
       "3 370188     380292     392009     401239     408426     417735    \n",
       "4  25322      25448      25547      25670      25746      25819    \n",
       "5  26033      26361      26590      26985      27166      27438    \n",
       "6  83030      83500      83952      84599      85042      85236    "
      ]
     },
     "metadata": {},
     "output_type": "display_data"
    }
   ],
   "source": [
    "head(df_covid)"
   ]
  },
  {
   "cell_type": "code",
   "execution_count": 229,
   "metadata": {},
   "outputs": [],
   "source": [
    "# Here, we make all the names uniform\n",
    "# Ideally, this should be done in the preprocessing script in python (make this a TODO)\n",
    "names(df_covid)[3:201] <- gsub(x = names(df_covid)[3:201], pattern = \"X\", replacement = \"\")\n",
    "names(df_google)[3:201] = names(df_covid)[3:201]\n",
    "names(df_interv)[3:201] = names(df_covid)[3:201]\n",
    "df_covid = cbind(df_covid[['iso']], df_covid[['X']], df_covid[,3:201]) #reorder ISO and Variable columns"
   ]
  },
  {
   "cell_type": "code",
   "execution_count": 230,
   "metadata": {},
   "outputs": [],
   "source": [
    "# Change the variable names to be shorter\n",
    "# As I suggested, come up with 3- or 4-letter abbreviations for ALL the variables \n",
    "# Save these new names in the Python pre-processing script. Once this is done, the next few lines should be obsolete\n",
    "df_interv$category <- gsub(x = df_interv$category, pattern = \"Public health measures\", replacement = \"phm\")\n",
    "df_interv$category <- gsub(x = df_interv$category, pattern = \"Governance and socio-economic measures\", replacement = \"sem\")\n",
    "df_interv$category <- gsub(x = df_interv$category, pattern = \"Social distancing\", replacement = \"sd\")\n",
    "df_interv$category <- gsub(x = df_interv$category, pattern = \"Movement restrictions\", replacement = \"mr\")\n",
    "df_interv$category <- gsub(x = df_interv$category, pattern = \"Lockdown\", replacement = \"ld\")\n",
    "df_interv$category <- gsub(x = df_interv$category, pattern = \"Humanitarian exemption\", replacement = \"he\")"
   ]
  },
  {
   "cell_type": "code",
   "execution_count": 231,
   "metadata": {},
   "outputs": [
    {
     "data": {
      "text/html": [
       "<table>\n",
       "<caption>A data.frame: 6 × 201</caption>\n",
       "<thead>\n",
       "\t<tr><th></th><th scope=col>iso</th><th scope=col>activity</th><th scope=col>2.15.2020</th><th scope=col>2.16.2020</th><th scope=col>2.17.2020</th><th scope=col>2.18.2020</th><th scope=col>2.19.2020</th><th scope=col>2.20.2020</th><th scope=col>2.21.2020</th><th scope=col>2.22.2020</th><th scope=col>⋯</th><th scope=col>8.22.2020</th><th scope=col>8.23.2020</th><th scope=col>8.24.2020</th><th scope=col>8.25.2020</th><th scope=col>8.26.2020</th><th scope=col>8.27.2020</th><th scope=col>8.28.2020</th><th scope=col>8.29.2020</th><th scope=col>8.30.2020</th><th scope=col>8.31.2020</th></tr>\n",
       "\t<tr><th></th><th scope=col>&lt;chr&gt;</th><th scope=col>&lt;chr&gt;</th><th scope=col>&lt;dbl&gt;</th><th scope=col>&lt;dbl&gt;</th><th scope=col>&lt;dbl&gt;</th><th scope=col>&lt;dbl&gt;</th><th scope=col>&lt;dbl&gt;</th><th scope=col>&lt;dbl&gt;</th><th scope=col>&lt;dbl&gt;</th><th scope=col>&lt;dbl&gt;</th><th scope=col>⋯</th><th scope=col>&lt;dbl&gt;</th><th scope=col>&lt;dbl&gt;</th><th scope=col>&lt;dbl&gt;</th><th scope=col>&lt;dbl&gt;</th><th scope=col>&lt;dbl&gt;</th><th scope=col>&lt;dbl&gt;</th><th scope=col>&lt;dbl&gt;</th><th scope=col>&lt;dbl&gt;</th><th scope=col>&lt;dbl&gt;</th><th scope=col>&lt;dbl&gt;</th></tr>\n",
       "</thead>\n",
       "<tbody>\n",
       "\t<tr><th scope=row>1</th><td>ARE</td><td>grocery    </td><td>4</td><td>4</td><td> 1</td><td> 1</td><td> 0</td><td> 1</td><td> 2</td><td> 2</td><td>⋯</td><td> -9</td><td>  1</td><td>-10</td><td> -8</td><td> -7</td><td> -5</td><td>-11</td><td> -5</td><td>  2</td><td> -3</td></tr>\n",
       "\t<tr><th scope=row>2</th><td>ARE</td><td>parks      </td><td>5</td><td>4</td><td> 5</td><td> 5</td><td> 4</td><td> 6</td><td> 6</td><td> 4</td><td>⋯</td><td>-43</td><td>-37</td><td>-42</td><td>-41</td><td>-41</td><td>-42</td><td>-55</td><td>-46</td><td>-38</td><td>-40</td></tr>\n",
       "\t<tr><th scope=row>3</th><td>ARE</td><td>residential</td><td>1</td><td>1</td><td> 1</td><td> 1</td><td> 1</td><td> 1</td><td> 1</td><td> 1</td><td>⋯</td><td>  8</td><td> 22</td><td> 10</td><td> 10</td><td> 10</td><td> 11</td><td> 10</td><td>  8</td><td>  9</td><td> 10</td></tr>\n",
       "\t<tr><th scope=row>4</th><td>ARE</td><td>retail     </td><td>0</td><td>1</td><td>-1</td><td>-2</td><td>-2</td><td>-2</td><td>-3</td><td>-2</td><td>⋯</td><td>-23</td><td>-19</td><td>-25</td><td>-24</td><td>-23</td><td>-22</td><td>-30</td><td>-23</td><td>-18</td><td>-21</td></tr>\n",
       "\t<tr><th scope=row>5</th><td>ARE</td><td>transit    </td><td>0</td><td>1</td><td> 1</td><td> 0</td><td>-1</td><td> 1</td><td> 0</td><td>-2</td><td>⋯</td><td>-44</td><td>-53</td><td>-42</td><td>-41</td><td>-41</td><td>-41</td><td>-47</td><td>-42</td><td>-40</td><td>-41</td></tr>\n",
       "\t<tr><th scope=row>6</th><td>ARE</td><td>workplaces </td><td>2</td><td>2</td><td> 2</td><td> 2</td><td> 2</td><td> 1</td><td>-1</td><td> 3</td><td>⋯</td><td>-15</td><td>-58</td><td>-20</td><td>-21</td><td>-20</td><td>-20</td><td>-13</td><td>-11</td><td>-21</td><td>-22</td></tr>\n",
       "</tbody>\n",
       "</table>\n"
      ],
      "text/latex": [
       "A data.frame: 6 × 201\n",
       "\\begin{tabular}{r|lllllllllllllllllllll}\n",
       "  & iso & activity & 2.15.2020 & 2.16.2020 & 2.17.2020 & 2.18.2020 & 2.19.2020 & 2.20.2020 & 2.21.2020 & 2.22.2020 & ⋯ & 8.22.2020 & 8.23.2020 & 8.24.2020 & 8.25.2020 & 8.26.2020 & 8.27.2020 & 8.28.2020 & 8.29.2020 & 8.30.2020 & 8.31.2020\\\\\n",
       "  & <chr> & <chr> & <dbl> & <dbl> & <dbl> & <dbl> & <dbl> & <dbl> & <dbl> & <dbl> & ⋯ & <dbl> & <dbl> & <dbl> & <dbl> & <dbl> & <dbl> & <dbl> & <dbl> & <dbl> & <dbl>\\\\\n",
       "\\hline\n",
       "\t1 & ARE & grocery     & 4 & 4 &  1 &  1 &  0 &  1 &  2 &  2 & ⋯ &  -9 &   1 & -10 &  -8 &  -7 &  -5 & -11 &  -5 &   2 &  -3\\\\\n",
       "\t2 & ARE & parks       & 5 & 4 &  5 &  5 &  4 &  6 &  6 &  4 & ⋯ & -43 & -37 & -42 & -41 & -41 & -42 & -55 & -46 & -38 & -40\\\\\n",
       "\t3 & ARE & residential & 1 & 1 &  1 &  1 &  1 &  1 &  1 &  1 & ⋯ &   8 &  22 &  10 &  10 &  10 &  11 &  10 &   8 &   9 &  10\\\\\n",
       "\t4 & ARE & retail      & 0 & 1 & -1 & -2 & -2 & -2 & -3 & -2 & ⋯ & -23 & -19 & -25 & -24 & -23 & -22 & -30 & -23 & -18 & -21\\\\\n",
       "\t5 & ARE & transit     & 0 & 1 &  1 &  0 & -1 &  1 &  0 & -2 & ⋯ & -44 & -53 & -42 & -41 & -41 & -41 & -47 & -42 & -40 & -41\\\\\n",
       "\t6 & ARE & workplaces  & 2 & 2 &  2 &  2 &  2 &  1 & -1 &  3 & ⋯ & -15 & -58 & -20 & -21 & -20 & -20 & -13 & -11 & -21 & -22\\\\\n",
       "\\end{tabular}\n"
      ],
      "text/markdown": [
       "\n",
       "A data.frame: 6 × 201\n",
       "\n",
       "| <!--/--> | iso &lt;chr&gt; | activity &lt;chr&gt; | 2.15.2020 &lt;dbl&gt; | 2.16.2020 &lt;dbl&gt; | 2.17.2020 &lt;dbl&gt; | 2.18.2020 &lt;dbl&gt; | 2.19.2020 &lt;dbl&gt; | 2.20.2020 &lt;dbl&gt; | 2.21.2020 &lt;dbl&gt; | 2.22.2020 &lt;dbl&gt; | ⋯ ⋯ | 8.22.2020 &lt;dbl&gt; | 8.23.2020 &lt;dbl&gt; | 8.24.2020 &lt;dbl&gt; | 8.25.2020 &lt;dbl&gt; | 8.26.2020 &lt;dbl&gt; | 8.27.2020 &lt;dbl&gt; | 8.28.2020 &lt;dbl&gt; | 8.29.2020 &lt;dbl&gt; | 8.30.2020 &lt;dbl&gt; | 8.31.2020 &lt;dbl&gt; |\n",
       "|---|---|---|---|---|---|---|---|---|---|---|---|---|---|---|---|---|---|---|---|---|---|\n",
       "| 1 | ARE | grocery     | 4 | 4 |  1 |  1 |  0 |  1 |  2 |  2 | ⋯ |  -9 |   1 | -10 |  -8 |  -7 |  -5 | -11 |  -5 |   2 |  -3 |\n",
       "| 2 | ARE | parks       | 5 | 4 |  5 |  5 |  4 |  6 |  6 |  4 | ⋯ | -43 | -37 | -42 | -41 | -41 | -42 | -55 | -46 | -38 | -40 |\n",
       "| 3 | ARE | residential | 1 | 1 |  1 |  1 |  1 |  1 |  1 |  1 | ⋯ |   8 |  22 |  10 |  10 |  10 |  11 |  10 |   8 |   9 |  10 |\n",
       "| 4 | ARE | retail      | 0 | 1 | -1 | -2 | -2 | -2 | -3 | -2 | ⋯ | -23 | -19 | -25 | -24 | -23 | -22 | -30 | -23 | -18 | -21 |\n",
       "| 5 | ARE | transit     | 0 | 1 |  1 |  0 | -1 |  1 |  0 | -2 | ⋯ | -44 | -53 | -42 | -41 | -41 | -41 | -47 | -42 | -40 | -41 |\n",
       "| 6 | ARE | workplaces  | 2 | 2 |  2 |  2 |  2 |  1 | -1 |  3 | ⋯ | -15 | -58 | -20 | -21 | -20 | -20 | -13 | -11 | -21 | -22 |\n",
       "\n"
      ],
      "text/plain": [
       "  iso activity    2.15.2020 2.16.2020 2.17.2020 2.18.2020 2.19.2020 2.20.2020\n",
       "1 ARE grocery     4         4          1         1         0         1       \n",
       "2 ARE parks       5         4          5         5         4         6       \n",
       "3 ARE residential 1         1          1         1         1         1       \n",
       "4 ARE retail      0         1         -1        -2        -2        -2       \n",
       "5 ARE transit     0         1          1         0        -1         1       \n",
       "6 ARE workplaces  2         2          2         2         2         1       \n",
       "  2.21.2020 2.22.2020 ⋯ 8.22.2020 8.23.2020 8.24.2020 8.25.2020 8.26.2020\n",
       "1  2         2        ⋯  -9         1       -10        -8        -7      \n",
       "2  6         4        ⋯ -43       -37       -42       -41       -41      \n",
       "3  1         1        ⋯   8        22        10        10        10      \n",
       "4 -3        -2        ⋯ -23       -19       -25       -24       -23      \n",
       "5  0        -2        ⋯ -44       -53       -42       -41       -41      \n",
       "6 -1         3        ⋯ -15       -58       -20       -21       -20      \n",
       "  8.27.2020 8.28.2020 8.29.2020 8.30.2020 8.31.2020\n",
       "1  -5       -11        -5         2        -3      \n",
       "2 -42       -55       -46       -38       -40      \n",
       "3  11        10         8         9        10      \n",
       "4 -22       -30       -23       -18       -21      \n",
       "5 -41       -47       -42       -40       -41      \n",
       "6 -20       -13       -11       -21       -22      "
      ]
     },
     "metadata": {},
     "output_type": "display_data"
    }
   ],
   "source": [
    "head(df_google) #check structure here to ensure uniformity"
   ]
  },
  {
   "cell_type": "code",
   "execution_count": 232,
   "metadata": {},
   "outputs": [
    {
     "ename": "ERROR",
     "evalue": "Error in `[.data.frame`(df_google, 1, 3:231): undefined columns selected\n",
     "output_type": "error",
     "traceback": [
      "Error in `[.data.frame`(df_google, 1, 3:231): undefined columns selected\nTraceback:\n",
      "1. plot(seq(3, 231), df_google[1, 3:231])",
      "2. plot.default(seq(3, 231), df_google[1, 3:231])",
      "3. xy.coords(x, y, xlabel, ylabel, log)",
      "4. df_google[1, 3:231]",
      "5. `[.data.frame`(df_google, 1, 3:231)",
      "6. stop(\"undefined columns selected\")"
     ]
    }
   ],
   "source": [
    "plot(seq(3,231),df_google[1,3:231]) #quick exploratory plotting\n",
    "plot(seq(4,231),matrixStats::rowDiffs(as.matrix(df_google[1,3:231]))) #quick exploratory plotting"
   ]
  },
  {
   "cell_type": "code",
   "execution_count": 233,
   "metadata": {},
   "outputs": [
    {
     "ename": "ERROR",
     "evalue": "Error in `[.data.frame`(df_covid, 1, 3:231): undefined columns selected\n",
     "output_type": "error",
     "traceback": [
      "Error in `[.data.frame`(df_covid, 1, 3:231): undefined columns selected\nTraceback:\n",
      "1. plot(seq(4, 231), matrixStats::rowDiffs(as.matrix(df_covid[1, \n .     3:231])))",
      "2. plot.default(seq(4, 231), matrixStats::rowDiffs(as.matrix(df_covid[1, \n .     3:231])))",
      "3. xy.coords(x, y, xlabel, ylabel, log)",
      "4. matrixStats::rowDiffs(as.matrix(df_covid[1, 3:231]))",
      "5. as.matrix(df_covid[1, 3:231])",
      "6. df_covid[1, 3:231]",
      "7. `[.data.frame`(df_covid, 1, 3:231)",
      "8. stop(\"undefined columns selected\")"
     ]
    }
   ],
   "source": [
    "plot(seq(4,231),matrixStats::rowDiffs(as.matrix(df_covid[1,3:231]))) #quick exploratory plotting\n",
    "plot(seq(5,231),matrixStats::rowDiffs(as.matrix(df_covid[1,3:231]), differences=2L)) # twice differenced\n",
    "plot(seq(3,231),df_covid[1,3:231]) #quick exploratory plotting"
   ]
  },
  {
   "cell_type": "code",
   "execution_count": 234,
   "metadata": {},
   "outputs": [],
   "source": [
    "df_covid[, 5:201] = matrixStats::rowDiffs(as.matrix(df_covid[, 3:201]), differences=2L) # convert to daily cases and then difference\n",
    "df_google[, 4:201] = matrixStats::rowDiffs(as.matrix(df_google[, 3:201])) # 1st difference of google activity/mobility\n",
    "# More data transformations can/may need to be done here. "
   ]
  },
  {
   "cell_type": "code",
   "execution_count": 235,
   "metadata": {},
   "outputs": [
    {
     "name": "stderr",
     "output_type": "stream",
     "text": [
      "Warning message in file(file, \"rt\"):\n",
      "“file(\"\") only supports open = \"w+\" and open = \"w+b\": using the former”\n"
     ]
    },
    {
     "ename": "ERROR",
     "evalue": "Error in read.table(file = file, header = header, sep = sep, quote = quote, : no lines available in input\n",
     "output_type": "error",
     "traceback": [
      "Error in read.table(file = file, header = header, sep = sep, quote = quote, : no lines available in input\nTraceback:\n",
      "1. read.csv(\"\")",
      "2. read.table(file = file, header = header, sep = sep, quote = quote, \n .     dec = dec, fill = fill, comment.char = comment.char, ...)",
      "3. stop(\"no lines available in input\")"
     ]
    }
   ],
   "source": [
    "as = read.csv('')"
   ]
  },
  {
   "cell_type": "code",
   "execution_count": 236,
   "metadata": {},
   "outputs": [],
   "source": [
    "#Standardize names of first 2 columns (This can/should also be done in python pre-processing script)\n",
    "names(df_covid)[1:2] = c('country', 'variable')\n",
    "names(df_google)[1:2] = c('country', 'variable')\n",
    "names(df_interv)[1:2] = c('country', 'variable')"
   ]
  },
  {
   "cell_type": "code",
   "execution_count": 241,
   "metadata": {},
   "outputs": [
    {
     "data": {
      "text/html": [
       "56"
      ],
      "text/latex": [
       "56"
      ],
      "text/markdown": [
       "56"
      ],
      "text/plain": [
       "[1] 56"
      ]
     },
     "metadata": {},
     "output_type": "display_data"
    },
    {
     "data": {
      "text/html": [
       "56"
      ],
      "text/latex": [
       "56"
      ],
      "text/markdown": [
       "56"
      ],
      "text/plain": [
       "[1] 56"
      ]
     },
     "metadata": {},
     "output_type": "display_data"
    },
    {
     "data": {
      "text/html": [
       "61"
      ],
      "text/latex": [
       "61"
      ],
      "text/markdown": [
       "61"
      ],
      "text/plain": [
       "[1] 61"
      ]
     },
     "metadata": {},
     "output_type": "display_data"
    }
   ],
   "source": [
    "length(unique(df_google$country))\n",
    "length(unique(df_covid$country))\n",
    "length(unique(df_interv$country))"
   ]
  },
  {
   "cell_type": "code",
   "execution_count": 202,
   "metadata": {},
   "outputs": [
    {
     "data": {
      "text/html": [
       "<style>\n",
       ".list-inline {list-style: none; margin:0; padding: 0}\n",
       ".list-inline>li {display: inline-block}\n",
       ".list-inline>li:not(:last-child)::after {content: \"\\00b7\"; padding: 0 .5ex}\n",
       "</style>\n",
       "<ol class=list-inline><li>'ALB'</li><li>'ARE'</li><li>'ARG'</li><li>'AUS'</li><li>'AUT'</li><li>'BEL'</li><li>'BGR'</li><li>'BRA'</li><li>'CAN'</li><li>'CHE'</li><li>'CHL'</li><li>'COL'</li><li>'CZE'</li><li>'DEU'</li><li>'DNK'</li><li>'EGY'</li><li>'ESP'</li><li>'EST'</li><li>'FIN'</li><li>'FRA'</li><li>'GBR'</li><li>'GRC'</li><li>'HKG'</li><li>'HRV'</li><li>'HUN'</li><li>'IDN'</li><li>'IND'</li><li>'IRL'</li><li>'ISL'</li><li>'ISR'</li><li>'ITA'</li><li>'JPN'</li><li>'KHM'</li><li>'KOR'</li><li>'LTU'</li><li>'LUX'</li><li>'LVA'</li><li>'MAR'</li><li>'MEX'</li><li>'MYS'</li><li>'NLD'</li><li>'NOR'</li><li>'NZL'</li><li>'PHL'</li><li>'POL'</li><li>'PRT'</li><li>'ROU'</li><li>'RUS'</li><li>'SAU'</li><li>'SGP'</li><li>'SRB'</li><li>'SVK'</li><li>'SVN'</li><li>'SWE'</li><li>'THA'</li><li>'TUR'</li><li>'UKR'</li><li>'URY'</li><li>'USA'</li><li>'VNM'</li><li>'ZAF'</li></ol>\n"
      ],
      "text/latex": [
       "\\begin{enumerate*}\n",
       "\\item 'ALB'\n",
       "\\item 'ARE'\n",
       "\\item 'ARG'\n",
       "\\item 'AUS'\n",
       "\\item 'AUT'\n",
       "\\item 'BEL'\n",
       "\\item 'BGR'\n",
       "\\item 'BRA'\n",
       "\\item 'CAN'\n",
       "\\item 'CHE'\n",
       "\\item 'CHL'\n",
       "\\item 'COL'\n",
       "\\item 'CZE'\n",
       "\\item 'DEU'\n",
       "\\item 'DNK'\n",
       "\\item 'EGY'\n",
       "\\item 'ESP'\n",
       "\\item 'EST'\n",
       "\\item 'FIN'\n",
       "\\item 'FRA'\n",
       "\\item 'GBR'\n",
       "\\item 'GRC'\n",
       "\\item 'HKG'\n",
       "\\item 'HRV'\n",
       "\\item 'HUN'\n",
       "\\item 'IDN'\n",
       "\\item 'IND'\n",
       "\\item 'IRL'\n",
       "\\item 'ISL'\n",
       "\\item 'ISR'\n",
       "\\item 'ITA'\n",
       "\\item 'JPN'\n",
       "\\item 'KHM'\n",
       "\\item 'KOR'\n",
       "\\item 'LTU'\n",
       "\\item 'LUX'\n",
       "\\item 'LVA'\n",
       "\\item 'MAR'\n",
       "\\item 'MEX'\n",
       "\\item 'MYS'\n",
       "\\item 'NLD'\n",
       "\\item 'NOR'\n",
       "\\item 'NZL'\n",
       "\\item 'PHL'\n",
       "\\item 'POL'\n",
       "\\item 'PRT'\n",
       "\\item 'ROU'\n",
       "\\item 'RUS'\n",
       "\\item 'SAU'\n",
       "\\item 'SGP'\n",
       "\\item 'SRB'\n",
       "\\item 'SVK'\n",
       "\\item 'SVN'\n",
       "\\item 'SWE'\n",
       "\\item 'THA'\n",
       "\\item 'TUR'\n",
       "\\item 'UKR'\n",
       "\\item 'URY'\n",
       "\\item 'USA'\n",
       "\\item 'VNM'\n",
       "\\item 'ZAF'\n",
       "\\end{enumerate*}\n"
      ],
      "text/markdown": [
       "1. 'ALB'\n",
       "2. 'ARE'\n",
       "3. 'ARG'\n",
       "4. 'AUS'\n",
       "5. 'AUT'\n",
       "6. 'BEL'\n",
       "7. 'BGR'\n",
       "8. 'BRA'\n",
       "9. 'CAN'\n",
       "10. 'CHE'\n",
       "11. 'CHL'\n",
       "12. 'COL'\n",
       "13. 'CZE'\n",
       "14. 'DEU'\n",
       "15. 'DNK'\n",
       "16. 'EGY'\n",
       "17. 'ESP'\n",
       "18. 'EST'\n",
       "19. 'FIN'\n",
       "20. 'FRA'\n",
       "21. 'GBR'\n",
       "22. 'GRC'\n",
       "23. 'HKG'\n",
       "24. 'HRV'\n",
       "25. 'HUN'\n",
       "26. 'IDN'\n",
       "27. 'IND'\n",
       "28. 'IRL'\n",
       "29. 'ISL'\n",
       "30. 'ISR'\n",
       "31. 'ITA'\n",
       "32. 'JPN'\n",
       "33. 'KHM'\n",
       "34. 'KOR'\n",
       "35. 'LTU'\n",
       "36. 'LUX'\n",
       "37. 'LVA'\n",
       "38. 'MAR'\n",
       "39. 'MEX'\n",
       "40. 'MYS'\n",
       "41. 'NLD'\n",
       "42. 'NOR'\n",
       "43. 'NZL'\n",
       "44. 'PHL'\n",
       "45. 'POL'\n",
       "46. 'PRT'\n",
       "47. 'ROU'\n",
       "48. 'RUS'\n",
       "49. 'SAU'\n",
       "50. 'SGP'\n",
       "51. 'SRB'\n",
       "52. 'SVK'\n",
       "53. 'SVN'\n",
       "54. 'SWE'\n",
       "55. 'THA'\n",
       "56. 'TUR'\n",
       "57. 'UKR'\n",
       "58. 'URY'\n",
       "59. 'USA'\n",
       "60. 'VNM'\n",
       "61. 'ZAF'\n",
       "\n",
       "\n"
      ],
      "text/plain": [
       " [1] \"ALB\" \"ARE\" \"ARG\" \"AUS\" \"AUT\" \"BEL\" \"BGR\" \"BRA\" \"CAN\" \"CHE\" \"CHL\" \"COL\"\n",
       "[13] \"CZE\" \"DEU\" \"DNK\" \"EGY\" \"ESP\" \"EST\" \"FIN\" \"FRA\" \"GBR\" \"GRC\" \"HKG\" \"HRV\"\n",
       "[25] \"HUN\" \"IDN\" \"IND\" \"IRL\" \"ISL\" \"ISR\" \"ITA\" \"JPN\" \"KHM\" \"KOR\" \"LTU\" \"LUX\"\n",
       "[37] \"LVA\" \"MAR\" \"MEX\" \"MYS\" \"NLD\" \"NOR\" \"NZL\" \"PHL\" \"POL\" \"PRT\" \"ROU\" \"RUS\"\n",
       "[49] \"SAU\" \"SGP\" \"SRB\" \"SVK\" \"SVN\" \"SWE\" \"THA\" \"TUR\" \"UKR\" \"URY\" \"USA\" \"VNM\"\n",
       "[61] \"ZAF\""
      ]
     },
     "metadata": {},
     "output_type": "display_data"
    }
   ],
   "source": [
    "sort(unique(df_interv$country))"
   ]
  },
  {
   "cell_type": "code",
   "execution_count": 205,
   "metadata": {},
   "outputs": [
    {
     "data": {
      "text/html": [
       "<style>\n",
       ".list-inline {list-style: none; margin:0; padding: 0}\n",
       ".list-inline>li {display: inline-block}\n",
       ".list-inline>li:not(:last-child)::after {content: \"\\00b7\"; padding: 0 .5ex}\n",
       "</style>\n",
       "<ol class=list-inline><li>'ARE'</li><li>'ARG'</li><li>'AUS'</li><li>'AUT'</li><li>'BEL'</li><li>'BGR'</li><li>'BRA'</li><li>'CAN'</li><li>'CHE'</li><li>'CHL'</li><li>'COL'</li><li>'CZE'</li><li>'DEU'</li><li>'DNK'</li><li>'EGY'</li><li>'ESP'</li><li>'EST'</li><li>'FIN'</li><li>'FRA'</li><li>'GBR'</li><li>'GRC'</li><li>'HKG'</li><li>'HRV'</li><li>'HUN'</li><li>'IDN'</li><li>'IND'</li><li>'IRL'</li><li>'ISR'</li><li>'ITA'</li><li>'JPN'</li><li>'KHM'</li><li>'LTU'</li><li>'LUX'</li><li>'LVA'</li><li>'MAR'</li><li>'MEX'</li><li>'MYS'</li><li>'NLD'</li><li>'NOR'</li><li>'NZL'</li><li>'PHL'</li><li>'POL'</li><li>'PRT'</li><li>'ROU'</li><li>'SAU'</li><li>'SGP'</li><li>'SVK'</li><li>'SVN'</li><li>'SWE'</li><li>'THA'</li><li>'TUR'</li><li>'UKR'</li><li>'URY'</li><li>'USA'</li><li>'VNM'</li><li>'ZAF'</li></ol>\n"
      ],
      "text/latex": [
       "\\begin{enumerate*}\n",
       "\\item 'ARE'\n",
       "\\item 'ARG'\n",
       "\\item 'AUS'\n",
       "\\item 'AUT'\n",
       "\\item 'BEL'\n",
       "\\item 'BGR'\n",
       "\\item 'BRA'\n",
       "\\item 'CAN'\n",
       "\\item 'CHE'\n",
       "\\item 'CHL'\n",
       "\\item 'COL'\n",
       "\\item 'CZE'\n",
       "\\item 'DEU'\n",
       "\\item 'DNK'\n",
       "\\item 'EGY'\n",
       "\\item 'ESP'\n",
       "\\item 'EST'\n",
       "\\item 'FIN'\n",
       "\\item 'FRA'\n",
       "\\item 'GBR'\n",
       "\\item 'GRC'\n",
       "\\item 'HKG'\n",
       "\\item 'HRV'\n",
       "\\item 'HUN'\n",
       "\\item 'IDN'\n",
       "\\item 'IND'\n",
       "\\item 'IRL'\n",
       "\\item 'ISR'\n",
       "\\item 'ITA'\n",
       "\\item 'JPN'\n",
       "\\item 'KHM'\n",
       "\\item 'LTU'\n",
       "\\item 'LUX'\n",
       "\\item 'LVA'\n",
       "\\item 'MAR'\n",
       "\\item 'MEX'\n",
       "\\item 'MYS'\n",
       "\\item 'NLD'\n",
       "\\item 'NOR'\n",
       "\\item 'NZL'\n",
       "\\item 'PHL'\n",
       "\\item 'POL'\n",
       "\\item 'PRT'\n",
       "\\item 'ROU'\n",
       "\\item 'SAU'\n",
       "\\item 'SGP'\n",
       "\\item 'SVK'\n",
       "\\item 'SVN'\n",
       "\\item 'SWE'\n",
       "\\item 'THA'\n",
       "\\item 'TUR'\n",
       "\\item 'UKR'\n",
       "\\item 'URY'\n",
       "\\item 'USA'\n",
       "\\item 'VNM'\n",
       "\\item 'ZAF'\n",
       "\\end{enumerate*}\n"
      ],
      "text/markdown": [
       "1. 'ARE'\n",
       "2. 'ARG'\n",
       "3. 'AUS'\n",
       "4. 'AUT'\n",
       "5. 'BEL'\n",
       "6. 'BGR'\n",
       "7. 'BRA'\n",
       "8. 'CAN'\n",
       "9. 'CHE'\n",
       "10. 'CHL'\n",
       "11. 'COL'\n",
       "12. 'CZE'\n",
       "13. 'DEU'\n",
       "14. 'DNK'\n",
       "15. 'EGY'\n",
       "16. 'ESP'\n",
       "17. 'EST'\n",
       "18. 'FIN'\n",
       "19. 'FRA'\n",
       "20. 'GBR'\n",
       "21. 'GRC'\n",
       "22. 'HKG'\n",
       "23. 'HRV'\n",
       "24. 'HUN'\n",
       "25. 'IDN'\n",
       "26. 'IND'\n",
       "27. 'IRL'\n",
       "28. 'ISR'\n",
       "29. 'ITA'\n",
       "30. 'JPN'\n",
       "31. 'KHM'\n",
       "32. 'LTU'\n",
       "33. 'LUX'\n",
       "34. 'LVA'\n",
       "35. 'MAR'\n",
       "36. 'MEX'\n",
       "37. 'MYS'\n",
       "38. 'NLD'\n",
       "39. 'NOR'\n",
       "40. 'NZL'\n",
       "41. 'PHL'\n",
       "42. 'POL'\n",
       "43. 'PRT'\n",
       "44. 'ROU'\n",
       "45. 'SAU'\n",
       "46. 'SGP'\n",
       "47. 'SVK'\n",
       "48. 'SVN'\n",
       "49. 'SWE'\n",
       "50. 'THA'\n",
       "51. 'TUR'\n",
       "52. 'UKR'\n",
       "53. 'URY'\n",
       "54. 'USA'\n",
       "55. 'VNM'\n",
       "56. 'ZAF'\n",
       "\n",
       "\n"
      ],
      "text/plain": [
       " [1] \"ARE\" \"ARG\" \"AUS\" \"AUT\" \"BEL\" \"BGR\" \"BRA\" \"CAN\" \"CHE\" \"CHL\" \"COL\" \"CZE\"\n",
       "[13] \"DEU\" \"DNK\" \"EGY\" \"ESP\" \"EST\" \"FIN\" \"FRA\" \"GBR\" \"GRC\" \"HKG\" \"HRV\" \"HUN\"\n",
       "[25] \"IDN\" \"IND\" \"IRL\" \"ISR\" \"ITA\" \"JPN\" \"KHM\" \"LTU\" \"LUX\" \"LVA\" \"MAR\" \"MEX\"\n",
       "[37] \"MYS\" \"NLD\" \"NOR\" \"NZL\" \"PHL\" \"POL\" \"PRT\" \"ROU\" \"SAU\" \"SGP\" \"SVK\" \"SVN\"\n",
       "[49] \"SWE\" \"THA\" \"TUR\" \"UKR\" \"URY\" \"USA\" \"VNM\" \"ZAF\""
      ]
     },
     "metadata": {},
     "output_type": "display_data"
    }
   ],
   "source": [
    "sort(unique(df_google$country))"
   ]
  },
  {
   "cell_type": "code",
   "execution_count": 240,
   "metadata": {},
   "outputs": [
    {
     "data": {
      "text/html": [
       "<style>\n",
       ".list-inline {list-style: none; margin:0; padding: 0}\n",
       ".list-inline>li {display: inline-block}\n",
       ".list-inline>li:not(:last-child)::after {content: \"\\00b7\"; padding: 0 .5ex}\n",
       "</style>\n",
       "<ol class=list-inline><li>'HKG'</li><li>'KOR'</li><li>'RUS'</li><li>'SRB'</li><li>'USA'</li></ol>\n"
      ],
      "text/latex": [
       "\\begin{enumerate*}\n",
       "\\item 'HKG'\n",
       "\\item 'KOR'\n",
       "\\item 'RUS'\n",
       "\\item 'SRB'\n",
       "\\item 'USA'\n",
       "\\end{enumerate*}\n"
      ],
      "text/markdown": [
       "1. 'HKG'\n",
       "2. 'KOR'\n",
       "3. 'RUS'\n",
       "4. 'SRB'\n",
       "5. 'USA'\n",
       "\n",
       "\n"
      ],
      "text/plain": [
       "[1] \"HKG\" \"KOR\" \"RUS\" \"SRB\" \"USA\""
      ]
     },
     "metadata": {},
     "output_type": "display_data"
    },
    {
     "data": {
      "text/html": [
       "<style>\n",
       ".list-inline {list-style: none; margin:0; padding: 0}\n",
       ".list-inline>li {display: inline-block}\n",
       ".list-inline>li:not(:last-child)::after {content: \"\\00b7\"; padding: 0 .5ex}\n",
       "</style>\n",
       "<ol class=list-inline><li>'ALB'</li><li>'ISL'</li><li>'KOR'</li><li>'RUS'</li><li>'SRB'</li></ol>\n"
      ],
      "text/latex": [
       "\\begin{enumerate*}\n",
       "\\item 'ALB'\n",
       "\\item 'ISL'\n",
       "\\item 'KOR'\n",
       "\\item 'RUS'\n",
       "\\item 'SRB'\n",
       "\\end{enumerate*}\n"
      ],
      "text/markdown": [
       "1. 'ALB'\n",
       "2. 'ISL'\n",
       "3. 'KOR'\n",
       "4. 'RUS'\n",
       "5. 'SRB'\n",
       "\n",
       "\n"
      ],
      "text/plain": [
       "[1] \"ALB\" \"ISL\" \"KOR\" \"RUS\" \"SRB\""
      ]
     },
     "metadata": {},
     "output_type": "display_data"
    },
    {
     "data": {
      "text/html": [
       "<style>\n",
       ".list-inline {list-style: none; margin:0; padding: 0}\n",
       ".list-inline>li {display: inline-block}\n",
       ".list-inline>li:not(:last-child)::after {content: \"\\00b7\"; padding: 0 .5ex}\n",
       "</style>\n",
       "<ol class=list-inline><li>'ALB'</li><li>'ISL'</li></ol>\n"
      ],
      "text/latex": [
       "\\begin{enumerate*}\n",
       "\\item 'ALB'\n",
       "\\item 'ISL'\n",
       "\\end{enumerate*}\n"
      ],
      "text/markdown": [
       "1. 'ALB'\n",
       "2. 'ISL'\n",
       "\n",
       "\n"
      ],
      "text/plain": [
       "[1] \"ALB\" \"ISL\""
      ]
     },
     "metadata": {},
     "output_type": "display_data"
    },
    {
     "data": {
      "text/html": [
       "<style>\n",
       ".list-inline {list-style: none; margin:0; padding: 0}\n",
       ".list-inline>li {display: inline-block}\n",
       ".list-inline>li:not(:last-child)::after {content: \"\\00b7\"; padding: 0 .5ex}\n",
       "</style>\n",
       "<ol class=list-inline><li>'BGR'</li><li>'HKG'</li><li>'ROU'</li></ol>\n"
      ],
      "text/latex": [
       "\\begin{enumerate*}\n",
       "\\item 'BGR'\n",
       "\\item 'HKG'\n",
       "\\item 'ROU'\n",
       "\\end{enumerate*}\n"
      ],
      "text/markdown": [
       "1. 'BGR'\n",
       "2. 'HKG'\n",
       "3. 'ROU'\n",
       "\n",
       "\n"
      ],
      "text/plain": [
       "[1] \"BGR\" \"HKG\" \"ROU\""
      ]
     },
     "metadata": {},
     "output_type": "display_data"
    }
   ],
   "source": [
    "unique(df_interv$country)[!unique(df_interv$country) %in% unique(df_covid$country)]\n",
    "unique(df_interv$country)[!unique(df_interv$country) %in% unique(df_google$country)]\n",
    "unique(df_covid$country)[!unique(df_covid$country) %in% unique(df_google$country)]\n",
    "unique(df_interv$country)[!unique(df_interv$country) %in% unique(df_deter$iso)]"
   ]
  },
  {
   "cell_type": "code",
   "execution_count": 239,
   "metadata": {},
   "outputs": [],
   "source": [
    "df_endo <- rbind(df_covid[,1:201], df_google[,1:201]) #endogenous variables\n",
    "df_exo <- df_interv[,1:201] #strictly exogenous variables"
   ]
  },
  {
   "cell_type": "markdown",
   "metadata": {},
   "source": [
    "### Convert endogenous data into list of matrices"
   ]
  },
  {
   "cell_type": "code",
   "execution_count": 151,
   "metadata": {},
   "outputs": [],
   "source": [
    "#Convert endogenous data into list of dataframes; each list element corresponds to country\n",
    "# For each country, rows = time obs; columns = endogenous variables\n",
    "endo = list()\n",
    "for (i in unique(df_endo$country)) {\n",
    "    country_df = janitor::row_to_names(t(df_endo[df_endo$country==i, 2:201]), 1)\n",
    "    rownames(country_df) <- c()\n",
    "  #head(b_df)\n",
    "  endo[[i]] <- country_df \n",
    "}"
   ]
  },
  {
   "cell_type": "code",
   "execution_count": 130,
   "metadata": {},
   "outputs": [
    {
     "data": {
      "text/html": [
       "<style>\n",
       ".list-inline {list-style: none; margin:0; padding: 0}\n",
       ".list-inline>li {display: inline-block}\n",
       ".list-inline>li:not(:last-child)::after {content: \"\\00b7\"; padding: 0 .5ex}\n",
       "</style>\n",
       "<ol class=list-inline><li>'AFG'</li><li>'AGO'</li><li>'ALB'</li><li>'AND'</li><li>'ARE'</li><li>'ARG'</li><li>'ARM'</li><li>'ATG'</li><li>'AUS'</li><li>'AUT'</li><li>'AZE'</li><li>'BDI'</li><li>'BEL'</li><li>'BEN'</li><li>'BFA'</li><li>'BGD'</li><li>'BGR'</li><li>'BHR'</li><li>'BHS'</li><li>'BIH'</li><li>'BLR'</li><li>'BLZ'</li><li>'BOL'</li><li>'BRA'</li><li>'BRB'</li><li>'BTN'</li><li>'BWA'</li><li>'CAF'</li><li>'CAN'</li><li>'CHE'</li><li>'CHL'</li><li>'CHN'</li><li>'CIV'</li><li>'CMR'</li><li>'COL'</li><li>'COM'</li><li>'CRI'</li><li>'CUB'</li><li>'CYP'</li><li>'CZE'</li><li>'DEU'</li><li>'DJI'</li><li>'DMA'</li><li>'DNK'</li><li>'DOM'</li><li>'DZA'</li><li>'ECU'</li><li>'EGY'</li><li>'ERI'</li><li>'ESH'</li><li>'ESP'</li><li>'EST'</li><li>'ETH'</li><li>'FIN'</li><li>'FJI'</li><li>'FRA'</li><li>'GAB'</li><li>'GBR'</li><li>'GEO'</li><li>'GHA'</li><li>'GIN'</li><li>'GMB'</li><li>'GNB'</li><li>'GNQ'</li><li>'GRC'</li><li>'GRD'</li><li>'GTM'</li><li>'GUY'</li><li>'HND'</li><li>'HRV'</li><li>'HTI'</li><li>'HUN'</li><li>'IDN'</li><li>'IND'</li><li>'IRL'</li><li>'IRQ'</li><li>'ISL'</li><li>'ISR'</li><li>'ITA'</li><li>'JAM'</li><li>'JOR'</li><li>'JPN'</li><li>'KEN'</li><li>'KGZ'</li><li>'KHM'</li><li>'KWT'</li><li>'LBN'</li><li>'LBR'</li><li>'LCA'</li><li>'LIE'</li><li>'LKA'</li><li>'LSO'</li><li>'LTU'</li><li>'LUX'</li><li>'LVA'</li><li>'MAR'</li><li>'MCO'</li><li>'MDG'</li><li>'MDV'</li><li>'MEX'</li><li>'MLI'</li><li>'MLT'</li><li>'MNE'</li><li>'MNG'</li><li>'MOZ'</li><li>'MRT'</li><li>'MUS'</li><li>'MWI'</li><li>'MYS'</li><li>'NAM'</li><li>'NER'</li><li>'NGA'</li><li>'NIC'</li><li>'NLD'</li><li>'NOR'</li><li>'NPL'</li><li>'NZL'</li><li>'OMN'</li><li>'PAK'</li><li>'PAN'</li><li>'PER'</li><li>'PHL'</li><li>'PNG'</li><li>'POL'</li><li>'PRT'</li><li>'PRY'</li><li>'QAT'</li><li>'ROU'</li><li>'RWA'</li><li>'SAU'</li><li>'SDN'</li><li>'SEN'</li><li>'SGP'</li><li>'SLE'</li><li>'SLV'</li><li>'SMR'</li><li>'SOM'</li><li>'SSD'</li><li>'STP'</li><li>'SUR'</li><li>'SVK'</li><li>'SVN'</li><li>'SWE'</li><li>'SYC'</li><li>'TCD'</li><li>'TGO'</li><li>'THA'</li><li>'TJK'</li><li>'TLS'</li><li>'TTO'</li><li>'TUN'</li><li>'TUR'</li><li>'UGA'</li><li>'UKR'</li><li>'URY'</li><li>'UZB'</li><li>'VCT'</li><li>'VEN'</li><li>'VNM'</li><li>'YEM'</li><li>'ZAF'</li><li>'ZMB'</li><li>'ZWE'</li><li>'SLB'</li><li>'ABW'</li><li>'CPV'</li><li>'HKG'</li><li>'PRI'</li><li>'USA'</li></ol>\n"
      ],
      "text/latex": [
       "\\begin{enumerate*}\n",
       "\\item 'AFG'\n",
       "\\item 'AGO'\n",
       "\\item 'ALB'\n",
       "\\item 'AND'\n",
       "\\item 'ARE'\n",
       "\\item 'ARG'\n",
       "\\item 'ARM'\n",
       "\\item 'ATG'\n",
       "\\item 'AUS'\n",
       "\\item 'AUT'\n",
       "\\item 'AZE'\n",
       "\\item 'BDI'\n",
       "\\item 'BEL'\n",
       "\\item 'BEN'\n",
       "\\item 'BFA'\n",
       "\\item 'BGD'\n",
       "\\item 'BGR'\n",
       "\\item 'BHR'\n",
       "\\item 'BHS'\n",
       "\\item 'BIH'\n",
       "\\item 'BLR'\n",
       "\\item 'BLZ'\n",
       "\\item 'BOL'\n",
       "\\item 'BRA'\n",
       "\\item 'BRB'\n",
       "\\item 'BTN'\n",
       "\\item 'BWA'\n",
       "\\item 'CAF'\n",
       "\\item 'CAN'\n",
       "\\item 'CHE'\n",
       "\\item 'CHL'\n",
       "\\item 'CHN'\n",
       "\\item 'CIV'\n",
       "\\item 'CMR'\n",
       "\\item 'COL'\n",
       "\\item 'COM'\n",
       "\\item 'CRI'\n",
       "\\item 'CUB'\n",
       "\\item 'CYP'\n",
       "\\item 'CZE'\n",
       "\\item 'DEU'\n",
       "\\item 'DJI'\n",
       "\\item 'DMA'\n",
       "\\item 'DNK'\n",
       "\\item 'DOM'\n",
       "\\item 'DZA'\n",
       "\\item 'ECU'\n",
       "\\item 'EGY'\n",
       "\\item 'ERI'\n",
       "\\item 'ESH'\n",
       "\\item 'ESP'\n",
       "\\item 'EST'\n",
       "\\item 'ETH'\n",
       "\\item 'FIN'\n",
       "\\item 'FJI'\n",
       "\\item 'FRA'\n",
       "\\item 'GAB'\n",
       "\\item 'GBR'\n",
       "\\item 'GEO'\n",
       "\\item 'GHA'\n",
       "\\item 'GIN'\n",
       "\\item 'GMB'\n",
       "\\item 'GNB'\n",
       "\\item 'GNQ'\n",
       "\\item 'GRC'\n",
       "\\item 'GRD'\n",
       "\\item 'GTM'\n",
       "\\item 'GUY'\n",
       "\\item 'HND'\n",
       "\\item 'HRV'\n",
       "\\item 'HTI'\n",
       "\\item 'HUN'\n",
       "\\item 'IDN'\n",
       "\\item 'IND'\n",
       "\\item 'IRL'\n",
       "\\item 'IRQ'\n",
       "\\item 'ISL'\n",
       "\\item 'ISR'\n",
       "\\item 'ITA'\n",
       "\\item 'JAM'\n",
       "\\item 'JOR'\n",
       "\\item 'JPN'\n",
       "\\item 'KEN'\n",
       "\\item 'KGZ'\n",
       "\\item 'KHM'\n",
       "\\item 'KWT'\n",
       "\\item 'LBN'\n",
       "\\item 'LBR'\n",
       "\\item 'LCA'\n",
       "\\item 'LIE'\n",
       "\\item 'LKA'\n",
       "\\item 'LSO'\n",
       "\\item 'LTU'\n",
       "\\item 'LUX'\n",
       "\\item 'LVA'\n",
       "\\item 'MAR'\n",
       "\\item 'MCO'\n",
       "\\item 'MDG'\n",
       "\\item 'MDV'\n",
       "\\item 'MEX'\n",
       "\\item 'MLI'\n",
       "\\item 'MLT'\n",
       "\\item 'MNE'\n",
       "\\item 'MNG'\n",
       "\\item 'MOZ'\n",
       "\\item 'MRT'\n",
       "\\item 'MUS'\n",
       "\\item 'MWI'\n",
       "\\item 'MYS'\n",
       "\\item 'NAM'\n",
       "\\item 'NER'\n",
       "\\item 'NGA'\n",
       "\\item 'NIC'\n",
       "\\item 'NLD'\n",
       "\\item 'NOR'\n",
       "\\item 'NPL'\n",
       "\\item 'NZL'\n",
       "\\item 'OMN'\n",
       "\\item 'PAK'\n",
       "\\item 'PAN'\n",
       "\\item 'PER'\n",
       "\\item 'PHL'\n",
       "\\item 'PNG'\n",
       "\\item 'POL'\n",
       "\\item 'PRT'\n",
       "\\item 'PRY'\n",
       "\\item 'QAT'\n",
       "\\item 'ROU'\n",
       "\\item 'RWA'\n",
       "\\item 'SAU'\n",
       "\\item 'SDN'\n",
       "\\item 'SEN'\n",
       "\\item 'SGP'\n",
       "\\item 'SLE'\n",
       "\\item 'SLV'\n",
       "\\item 'SMR'\n",
       "\\item 'SOM'\n",
       "\\item 'SSD'\n",
       "\\item 'STP'\n",
       "\\item 'SUR'\n",
       "\\item 'SVK'\n",
       "\\item 'SVN'\n",
       "\\item 'SWE'\n",
       "\\item 'SYC'\n",
       "\\item 'TCD'\n",
       "\\item 'TGO'\n",
       "\\item 'THA'\n",
       "\\item 'TJK'\n",
       "\\item 'TLS'\n",
       "\\item 'TTO'\n",
       "\\item 'TUN'\n",
       "\\item 'TUR'\n",
       "\\item 'UGA'\n",
       "\\item 'UKR'\n",
       "\\item 'URY'\n",
       "\\item 'UZB'\n",
       "\\item 'VCT'\n",
       "\\item 'VEN'\n",
       "\\item 'VNM'\n",
       "\\item 'YEM'\n",
       "\\item 'ZAF'\n",
       "\\item 'ZMB'\n",
       "\\item 'ZWE'\n",
       "\\item 'SLB'\n",
       "\\item 'ABW'\n",
       "\\item 'CPV'\n",
       "\\item 'HKG'\n",
       "\\item 'PRI'\n",
       "\\item 'USA'\n",
       "\\end{enumerate*}\n"
      ],
      "text/markdown": [
       "1. 'AFG'\n",
       "2. 'AGO'\n",
       "3. 'ALB'\n",
       "4. 'AND'\n",
       "5. 'ARE'\n",
       "6. 'ARG'\n",
       "7. 'ARM'\n",
       "8. 'ATG'\n",
       "9. 'AUS'\n",
       "10. 'AUT'\n",
       "11. 'AZE'\n",
       "12. 'BDI'\n",
       "13. 'BEL'\n",
       "14. 'BEN'\n",
       "15. 'BFA'\n",
       "16. 'BGD'\n",
       "17. 'BGR'\n",
       "18. 'BHR'\n",
       "19. 'BHS'\n",
       "20. 'BIH'\n",
       "21. 'BLR'\n",
       "22. 'BLZ'\n",
       "23. 'BOL'\n",
       "24. 'BRA'\n",
       "25. 'BRB'\n",
       "26. 'BTN'\n",
       "27. 'BWA'\n",
       "28. 'CAF'\n",
       "29. 'CAN'\n",
       "30. 'CHE'\n",
       "31. 'CHL'\n",
       "32. 'CHN'\n",
       "33. 'CIV'\n",
       "34. 'CMR'\n",
       "35. 'COL'\n",
       "36. 'COM'\n",
       "37. 'CRI'\n",
       "38. 'CUB'\n",
       "39. 'CYP'\n",
       "40. 'CZE'\n",
       "41. 'DEU'\n",
       "42. 'DJI'\n",
       "43. 'DMA'\n",
       "44. 'DNK'\n",
       "45. 'DOM'\n",
       "46. 'DZA'\n",
       "47. 'ECU'\n",
       "48. 'EGY'\n",
       "49. 'ERI'\n",
       "50. 'ESH'\n",
       "51. 'ESP'\n",
       "52. 'EST'\n",
       "53. 'ETH'\n",
       "54. 'FIN'\n",
       "55. 'FJI'\n",
       "56. 'FRA'\n",
       "57. 'GAB'\n",
       "58. 'GBR'\n",
       "59. 'GEO'\n",
       "60. 'GHA'\n",
       "61. 'GIN'\n",
       "62. 'GMB'\n",
       "63. 'GNB'\n",
       "64. 'GNQ'\n",
       "65. 'GRC'\n",
       "66. 'GRD'\n",
       "67. 'GTM'\n",
       "68. 'GUY'\n",
       "69. 'HND'\n",
       "70. 'HRV'\n",
       "71. 'HTI'\n",
       "72. 'HUN'\n",
       "73. 'IDN'\n",
       "74. 'IND'\n",
       "75. 'IRL'\n",
       "76. 'IRQ'\n",
       "77. 'ISL'\n",
       "78. 'ISR'\n",
       "79. 'ITA'\n",
       "80. 'JAM'\n",
       "81. 'JOR'\n",
       "82. 'JPN'\n",
       "83. 'KEN'\n",
       "84. 'KGZ'\n",
       "85. 'KHM'\n",
       "86. 'KWT'\n",
       "87. 'LBN'\n",
       "88. 'LBR'\n",
       "89. 'LCA'\n",
       "90. 'LIE'\n",
       "91. 'LKA'\n",
       "92. 'LSO'\n",
       "93. 'LTU'\n",
       "94. 'LUX'\n",
       "95. 'LVA'\n",
       "96. 'MAR'\n",
       "97. 'MCO'\n",
       "98. 'MDG'\n",
       "99. 'MDV'\n",
       "100. 'MEX'\n",
       "101. 'MLI'\n",
       "102. 'MLT'\n",
       "103. 'MNE'\n",
       "104. 'MNG'\n",
       "105. 'MOZ'\n",
       "106. 'MRT'\n",
       "107. 'MUS'\n",
       "108. 'MWI'\n",
       "109. 'MYS'\n",
       "110. 'NAM'\n",
       "111. 'NER'\n",
       "112. 'NGA'\n",
       "113. 'NIC'\n",
       "114. 'NLD'\n",
       "115. 'NOR'\n",
       "116. 'NPL'\n",
       "117. 'NZL'\n",
       "118. 'OMN'\n",
       "119. 'PAK'\n",
       "120. 'PAN'\n",
       "121. 'PER'\n",
       "122. 'PHL'\n",
       "123. 'PNG'\n",
       "124. 'POL'\n",
       "125. 'PRT'\n",
       "126. 'PRY'\n",
       "127. 'QAT'\n",
       "128. 'ROU'\n",
       "129. 'RWA'\n",
       "130. 'SAU'\n",
       "131. 'SDN'\n",
       "132. 'SEN'\n",
       "133. 'SGP'\n",
       "134. 'SLE'\n",
       "135. 'SLV'\n",
       "136. 'SMR'\n",
       "137. 'SOM'\n",
       "138. 'SSD'\n",
       "139. 'STP'\n",
       "140. 'SUR'\n",
       "141. 'SVK'\n",
       "142. 'SVN'\n",
       "143. 'SWE'\n",
       "144. 'SYC'\n",
       "145. 'TCD'\n",
       "146. 'TGO'\n",
       "147. 'THA'\n",
       "148. 'TJK'\n",
       "149. 'TLS'\n",
       "150. 'TTO'\n",
       "151. 'TUN'\n",
       "152. 'TUR'\n",
       "153. 'UGA'\n",
       "154. 'UKR'\n",
       "155. 'URY'\n",
       "156. 'UZB'\n",
       "157. 'VCT'\n",
       "158. 'VEN'\n",
       "159. 'VNM'\n",
       "160. 'YEM'\n",
       "161. 'ZAF'\n",
       "162. 'ZMB'\n",
       "163. 'ZWE'\n",
       "164. 'SLB'\n",
       "165. 'ABW'\n",
       "166. 'CPV'\n",
       "167. 'HKG'\n",
       "168. 'PRI'\n",
       "169. 'USA'\n",
       "\n",
       "\n"
      ],
      "text/plain": [
       "  [1] \"AFG\" \"AGO\" \"ALB\" \"AND\" \"ARE\" \"ARG\" \"ARM\" \"ATG\" \"AUS\" \"AUT\" \"AZE\" \"BDI\"\n",
       " [13] \"BEL\" \"BEN\" \"BFA\" \"BGD\" \"BGR\" \"BHR\" \"BHS\" \"BIH\" \"BLR\" \"BLZ\" \"BOL\" \"BRA\"\n",
       " [25] \"BRB\" \"BTN\" \"BWA\" \"CAF\" \"CAN\" \"CHE\" \"CHL\" \"CHN\" \"CIV\" \"CMR\" \"COL\" \"COM\"\n",
       " [37] \"CRI\" \"CUB\" \"CYP\" \"CZE\" \"DEU\" \"DJI\" \"DMA\" \"DNK\" \"DOM\" \"DZA\" \"ECU\" \"EGY\"\n",
       " [49] \"ERI\" \"ESH\" \"ESP\" \"EST\" \"ETH\" \"FIN\" \"FJI\" \"FRA\" \"GAB\" \"GBR\" \"GEO\" \"GHA\"\n",
       " [61] \"GIN\" \"GMB\" \"GNB\" \"GNQ\" \"GRC\" \"GRD\" \"GTM\" \"GUY\" \"HND\" \"HRV\" \"HTI\" \"HUN\"\n",
       " [73] \"IDN\" \"IND\" \"IRL\" \"IRQ\" \"ISL\" \"ISR\" \"ITA\" \"JAM\" \"JOR\" \"JPN\" \"KEN\" \"KGZ\"\n",
       " [85] \"KHM\" \"KWT\" \"LBN\" \"LBR\" \"LCA\" \"LIE\" \"LKA\" \"LSO\" \"LTU\" \"LUX\" \"LVA\" \"MAR\"\n",
       " [97] \"MCO\" \"MDG\" \"MDV\" \"MEX\" \"MLI\" \"MLT\" \"MNE\" \"MNG\" \"MOZ\" \"MRT\" \"MUS\" \"MWI\"\n",
       "[109] \"MYS\" \"NAM\" \"NER\" \"NGA\" \"NIC\" \"NLD\" \"NOR\" \"NPL\" \"NZL\" \"OMN\" \"PAK\" \"PAN\"\n",
       "[121] \"PER\" \"PHL\" \"PNG\" \"POL\" \"PRT\" \"PRY\" \"QAT\" \"ROU\" \"RWA\" \"SAU\" \"SDN\" \"SEN\"\n",
       "[133] \"SGP\" \"SLE\" \"SLV\" \"SMR\" \"SOM\" \"SSD\" \"STP\" \"SUR\" \"SVK\" \"SVN\" \"SWE\" \"SYC\"\n",
       "[145] \"TCD\" \"TGO\" \"THA\" \"TJK\" \"TLS\" \"TTO\" \"TUN\" \"TUR\" \"UGA\" \"UKR\" \"URY\" \"UZB\"\n",
       "[157] \"VCT\" \"VEN\" \"VNM\" \"YEM\" \"ZAF\" \"ZMB\" \"ZWE\" \"SLB\" \"ABW\" \"CPV\" \"HKG\" \"PRI\"\n",
       "[169] \"USA\""
      ]
     },
     "metadata": {},
     "output_type": "display_data"
    }
   ],
   "source": [
    "names(endo)"
   ]
  },
  {
   "cell_type": "markdown",
   "metadata": {},
   "source": [
    "### Convert exogenous data into list of matrices"
   ]
  },
  {
   "cell_type": "code",
   "execution_count": 153,
   "metadata": {},
   "outputs": [],
   "source": [
    "exo = list()\n",
    "for (i in unique(df_exo$country)) {\n",
    "    country_df = janitor::row_to_names(t(df_exo[df_exo$country==i, 2:201]), 1)\n",
    "    rownames(country_df) <- c()\n",
    "  #head(b_df)\n",
    "  exo[[i]] <- country_df \n",
    "}"
   ]
  },
  {
   "cell_type": "code",
   "execution_count": 154,
   "metadata": {},
   "outputs": [
    {
     "name": "stderr",
     "output_type": "stream",
     "text": [
      "Warning message in colnames(bW) == names(endo)[1:(length(endo) - 1)]:\n",
      "“longer object length is not a multiple of shorter object length”\n"
     ]
    },
    {
     "data": {
      "text/html": [
       "FALSE"
      ],
      "text/latex": [
       "FALSE"
      ],
      "text/markdown": [
       "FALSE"
      ],
      "text/plain": [
       "[1] FALSE"
      ]
     },
     "metadata": {},
     "output_type": "display_data"
    },
    {
     "data": {
      "text/html": [
       "<style>\n",
       ".dl-inline {width: auto; margin:0; padding: 0}\n",
       ".dl-inline>dt, .dl-inline>dd {float: none; width: auto; display: inline-block}\n",
       ".dl-inline>dt::after {content: \":\\0020\"; padding-right: .5ex}\n",
       ".dl-inline>dt:not(:first-of-type) {padding-left: .5ex}\n",
       "</style><dl class=dl-inline><dt>ALB</dt><dd>1</dd><dt>ARE</dt><dd>1</dd><dt>ARG</dt><dd>1</dd><dt>AUS</dt><dd>1</dd><dt>AUT</dt><dd>1</dd><dt>BEL</dt><dd>1</dd><dt>BGR</dt><dd>1</dd><dt>BRA</dt><dd>1</dd><dt>CAN</dt><dd>1</dd><dt>CHE</dt><dd>1</dd><dt>CHL</dt><dd>1</dd><dt>COL</dt><dd>1</dd><dt>CZE</dt><dd>1</dd><dt>DEU</dt><dd>1</dd><dt>DNK</dt><dd>1</dd><dt>EGY</dt><dd>1</dd><dt>ESP</dt><dd>1</dd><dt>EST</dt><dd>1</dd><dt>FIN</dt><dd>1</dd><dt>FRA</dt><dd>1</dd><dt>GBR</dt><dd>1</dd><dt>GRC</dt><dd>1</dd><dt>HRV</dt><dd>1</dd><dt>HUN</dt><dd>1</dd><dt>IDN</dt><dd>1</dd><dt>IND</dt><dd>1</dd><dt>IRL</dt><dd>1</dd><dt>ISL</dt><dd>1</dd><dt>ISR</dt><dd>1</dd><dt>ITA</dt><dd>1</dd><dt>JPN</dt><dd>1</dd><dt>KHM</dt><dd>1</dd><dt>LTU</dt><dd>1</dd><dt>LUX</dt><dd>1</dd><dt>LVA</dt><dd>1</dd><dt>MAR</dt><dd>1</dd><dt>MEX</dt><dd>1</dd><dt>MYS</dt><dd>1</dd><dt>NLD</dt><dd>1</dd><dt>NOR</dt><dd>1</dd><dt>NZL</dt><dd>1</dd><dt>PHL</dt><dd>1</dd><dt>POL</dt><dd>1</dd><dt>PRT</dt><dd>1</dd><dt>ROU</dt><dd>1</dd><dt>SAU</dt><dd>1</dd><dt>SGP</dt><dd>1</dd><dt>SVK</dt><dd>1</dd><dt>SVN</dt><dd>1</dd><dt>SWE</dt><dd>1</dd><dt>THA</dt><dd>1</dd><dt>TUR</dt><dd>1</dd><dt>UKR</dt><dd>1</dd><dt>URY</dt><dd>1</dd><dt>VNM</dt><dd>1</dd><dt>ZAF</dt><dd>1</dd><dt>HKG</dt><dd>1</dd><dt>USA</dt><dd>1</dd></dl>\n"
      ],
      "text/latex": [
       "\\begin{description*}\n",
       "\\item[ALB] 1\n",
       "\\item[ARE] 1\n",
       "\\item[ARG] 1\n",
       "\\item[AUS] 1\n",
       "\\item[AUT] 1\n",
       "\\item[BEL] 1\n",
       "\\item[BGR] 1\n",
       "\\item[BRA] 1\n",
       "\\item[CAN] 1\n",
       "\\item[CHE] 1\n",
       "\\item[CHL] 1\n",
       "\\item[COL] 1\n",
       "\\item[CZE] 1\n",
       "\\item[DEU] 1\n",
       "\\item[DNK] 1\n",
       "\\item[EGY] 1\n",
       "\\item[ESP] 1\n",
       "\\item[EST] 1\n",
       "\\item[FIN] 1\n",
       "\\item[FRA] 1\n",
       "\\item[GBR] 1\n",
       "\\item[GRC] 1\n",
       "\\item[HRV] 1\n",
       "\\item[HUN] 1\n",
       "\\item[IDN] 1\n",
       "\\item[IND] 1\n",
       "\\item[IRL] 1\n",
       "\\item[ISL] 1\n",
       "\\item[ISR] 1\n",
       "\\item[ITA] 1\n",
       "\\item[JPN] 1\n",
       "\\item[KHM] 1\n",
       "\\item[LTU] 1\n",
       "\\item[LUX] 1\n",
       "\\item[LVA] 1\n",
       "\\item[MAR] 1\n",
       "\\item[MEX] 1\n",
       "\\item[MYS] 1\n",
       "\\item[NLD] 1\n",
       "\\item[NOR] 1\n",
       "\\item[NZL] 1\n",
       "\\item[PHL] 1\n",
       "\\item[POL] 1\n",
       "\\item[PRT] 1\n",
       "\\item[ROU] 1\n",
       "\\item[SAU] 1\n",
       "\\item[SGP] 1\n",
       "\\item[SVK] 1\n",
       "\\item[SVN] 1\n",
       "\\item[SWE] 1\n",
       "\\item[THA] 1\n",
       "\\item[TUR] 1\n",
       "\\item[UKR] 1\n",
       "\\item[URY] 1\n",
       "\\item[VNM] 1\n",
       "\\item[ZAF] 1\n",
       "\\item[HKG] 1\n",
       "\\item[USA] 1\n",
       "\\end{description*}\n"
      ],
      "text/markdown": [
       "ALB\n",
       ":   1ARE\n",
       ":   1ARG\n",
       ":   1AUS\n",
       ":   1AUT\n",
       ":   1BEL\n",
       ":   1BGR\n",
       ":   1BRA\n",
       ":   1CAN\n",
       ":   1CHE\n",
       ":   1CHL\n",
       ":   1COL\n",
       ":   1CZE\n",
       ":   1DEU\n",
       ":   1DNK\n",
       ":   1EGY\n",
       ":   1ESP\n",
       ":   1EST\n",
       ":   1FIN\n",
       ":   1FRA\n",
       ":   1GBR\n",
       ":   1GRC\n",
       ":   1HRV\n",
       ":   1HUN\n",
       ":   1IDN\n",
       ":   1IND\n",
       ":   1IRL\n",
       ":   1ISL\n",
       ":   1ISR\n",
       ":   1ITA\n",
       ":   1JPN\n",
       ":   1KHM\n",
       ":   1LTU\n",
       ":   1LUX\n",
       ":   1LVA\n",
       ":   1MAR\n",
       ":   1MEX\n",
       ":   1MYS\n",
       ":   1NLD\n",
       ":   1NOR\n",
       ":   1NZL\n",
       ":   1PHL\n",
       ":   1POL\n",
       ":   1PRT\n",
       ":   1ROU\n",
       ":   1SAU\n",
       ":   1SGP\n",
       ":   1SVK\n",
       ":   1SVN\n",
       ":   1SWE\n",
       ":   1THA\n",
       ":   1TUR\n",
       ":   1UKR\n",
       ":   1URY\n",
       ":   1VNM\n",
       ":   1ZAF\n",
       ":   1HKG\n",
       ":   1USA\n",
       ":   1\n",
       "\n"
      ],
      "text/plain": [
       "ALB ARE ARG AUS AUT BEL BGR BRA CAN CHE CHL COL CZE DEU DNK EGY ESP EST FIN FRA \n",
       "  1   1   1   1   1   1   1   1   1   1   1   1   1   1   1   1   1   1   1   1 \n",
       "GBR GRC HRV HUN IDN IND IRL ISL ISR ITA JPN KHM LTU LUX LVA MAR MEX MYS NLD NOR \n",
       "  1   1   1   1   1   1   1   1   1   1   1   1   1   1   1   1   1   1   1   1 \n",
       "NZL PHL POL PRT ROU SAU SGP SVK SVN SWE THA TUR UKR URY VNM ZAF HKG USA \n",
       "  1   1   1   1   1   1   1   1   1   1   1   1   1   1   1   1   1   1 "
      ]
     },
     "metadata": {},
     "output_type": "display_data"
    },
    {
     "data": {
      "text/html": [
       "<style>\n",
       ".dl-inline {width: auto; margin:0; padding: 0}\n",
       ".dl-inline>dt, .dl-inline>dd {float: none; width: auto; display: inline-block}\n",
       ".dl-inline>dt::after {content: \":\\0020\"; padding-right: .5ex}\n",
       ".dl-inline>dt:not(:first-of-type) {padding-left: .5ex}\n",
       "</style><dl class=dl-inline><dt>ALB</dt><dd>0</dd><dt>ARE</dt><dd>0</dd><dt>ARG</dt><dd>0</dd><dt>AUS</dt><dd>0</dd><dt>AUT</dt><dd>0</dd><dt>BEL</dt><dd>0</dd><dt>BGR</dt><dd>0</dd><dt>BRA</dt><dd>0</dd><dt>CAN</dt><dd>0</dd><dt>CHE</dt><dd>0</dd><dt>CHL</dt><dd>0</dd><dt>COL</dt><dd>0</dd><dt>CZE</dt><dd>0</dd><dt>DEU</dt><dd>0</dd><dt>DNK</dt><dd>0</dd><dt>EGY</dt><dd>0</dd><dt>ESP</dt><dd>0</dd><dt>EST</dt><dd>0</dd><dt>FIN</dt><dd>0</dd><dt>FRA</dt><dd>0</dd><dt>GBR</dt><dd>0</dd><dt>GRC</dt><dd>0</dd><dt>HRV</dt><dd>0</dd><dt>HUN</dt><dd>0</dd><dt>IDN</dt><dd>0</dd><dt>IND</dt><dd>0</dd><dt>IRL</dt><dd>0</dd><dt>ISL</dt><dd>0</dd><dt>ISR</dt><dd>0</dd><dt>ITA</dt><dd>0</dd><dt>JPN</dt><dd>0</dd><dt>KHM</dt><dd>0</dd><dt>LTU</dt><dd>0</dd><dt>LUX</dt><dd>0</dd><dt>LVA</dt><dd>0</dd><dt>MAR</dt><dd>0</dd><dt>MEX</dt><dd>0</dd><dt>MYS</dt><dd>0</dd><dt>NLD</dt><dd>0</dd><dt>NOR</dt><dd>0</dd><dt>NZL</dt><dd>0</dd><dt>PHL</dt><dd>0</dd><dt>POL</dt><dd>0</dd><dt>PRT</dt><dd>0</dd><dt>ROU</dt><dd>0</dd><dt>SAU</dt><dd>0</dd><dt>SGP</dt><dd>0</dd><dt>SVK</dt><dd>0</dd><dt>SVN</dt><dd>0</dd><dt>SWE</dt><dd>0</dd><dt>THA</dt><dd>0</dd><dt>TUR</dt><dd>0</dd><dt>UKR</dt><dd>0</dd><dt>URY</dt><dd>0</dd><dt>VNM</dt><dd>0</dd><dt>ZAF</dt><dd>0</dd><dt>HKG</dt><dd>0</dd><dt>USA</dt><dd>0</dd></dl>\n"
      ],
      "text/latex": [
       "\\begin{description*}\n",
       "\\item[ALB] 0\n",
       "\\item[ARE] 0\n",
       "\\item[ARG] 0\n",
       "\\item[AUS] 0\n",
       "\\item[AUT] 0\n",
       "\\item[BEL] 0\n",
       "\\item[BGR] 0\n",
       "\\item[BRA] 0\n",
       "\\item[CAN] 0\n",
       "\\item[CHE] 0\n",
       "\\item[CHL] 0\n",
       "\\item[COL] 0\n",
       "\\item[CZE] 0\n",
       "\\item[DEU] 0\n",
       "\\item[DNK] 0\n",
       "\\item[EGY] 0\n",
       "\\item[ESP] 0\n",
       "\\item[EST] 0\n",
       "\\item[FIN] 0\n",
       "\\item[FRA] 0\n",
       "\\item[GBR] 0\n",
       "\\item[GRC] 0\n",
       "\\item[HRV] 0\n",
       "\\item[HUN] 0\n",
       "\\item[IDN] 0\n",
       "\\item[IND] 0\n",
       "\\item[IRL] 0\n",
       "\\item[ISL] 0\n",
       "\\item[ISR] 0\n",
       "\\item[ITA] 0\n",
       "\\item[JPN] 0\n",
       "\\item[KHM] 0\n",
       "\\item[LTU] 0\n",
       "\\item[LUX] 0\n",
       "\\item[LVA] 0\n",
       "\\item[MAR] 0\n",
       "\\item[MEX] 0\n",
       "\\item[MYS] 0\n",
       "\\item[NLD] 0\n",
       "\\item[NOR] 0\n",
       "\\item[NZL] 0\n",
       "\\item[PHL] 0\n",
       "\\item[POL] 0\n",
       "\\item[PRT] 0\n",
       "\\item[ROU] 0\n",
       "\\item[SAU] 0\n",
       "\\item[SGP] 0\n",
       "\\item[SVK] 0\n",
       "\\item[SVN] 0\n",
       "\\item[SWE] 0\n",
       "\\item[THA] 0\n",
       "\\item[TUR] 0\n",
       "\\item[UKR] 0\n",
       "\\item[URY] 0\n",
       "\\item[VNM] 0\n",
       "\\item[ZAF] 0\n",
       "\\item[HKG] 0\n",
       "\\item[USA] 0\n",
       "\\end{description*}\n"
      ],
      "text/markdown": [
       "ALB\n",
       ":   0ARE\n",
       ":   0ARG\n",
       ":   0AUS\n",
       ":   0AUT\n",
       ":   0BEL\n",
       ":   0BGR\n",
       ":   0BRA\n",
       ":   0CAN\n",
       ":   0CHE\n",
       ":   0CHL\n",
       ":   0COL\n",
       ":   0CZE\n",
       ":   0DEU\n",
       ":   0DNK\n",
       ":   0EGY\n",
       ":   0ESP\n",
       ":   0EST\n",
       ":   0FIN\n",
       ":   0FRA\n",
       ":   0GBR\n",
       ":   0GRC\n",
       ":   0HRV\n",
       ":   0HUN\n",
       ":   0IDN\n",
       ":   0IND\n",
       ":   0IRL\n",
       ":   0ISL\n",
       ":   0ISR\n",
       ":   0ITA\n",
       ":   0JPN\n",
       ":   0KHM\n",
       ":   0LTU\n",
       ":   0LUX\n",
       ":   0LVA\n",
       ":   0MAR\n",
       ":   0MEX\n",
       ":   0MYS\n",
       ":   0NLD\n",
       ":   0NOR\n",
       ":   0NZL\n",
       ":   0PHL\n",
       ":   0POL\n",
       ":   0PRT\n",
       ":   0ROU\n",
       ":   0SAU\n",
       ":   0SGP\n",
       ":   0SVK\n",
       ":   0SVN\n",
       ":   0SWE\n",
       ":   0THA\n",
       ":   0TUR\n",
       ":   0UKR\n",
       ":   0URY\n",
       ":   0VNM\n",
       ":   0ZAF\n",
       ":   0HKG\n",
       ":   0USA\n",
       ":   0\n",
       "\n"
      ],
      "text/plain": [
       "ALB ARE ARG AUS AUT BEL BGR BRA CAN CHE CHL COL CZE DEU DNK EGY ESP EST FIN FRA \n",
       "  0   0   0   0   0   0   0   0   0   0   0   0   0   0   0   0   0   0   0   0 \n",
       "GBR GRC HRV HUN IDN IND IRL ISL ISR ITA JPN KHM LTU LUX LVA MAR MEX MYS NLD NOR \n",
       "  0   0   0   0   0   0   0   0   0   0   0   0   0   0   0   0   0   0   0   0 \n",
       "NZL PHL POL PRT ROU SAU SGP SVK SVN SWE THA TUR UKR URY VNM ZAF HKG USA \n",
       "  0   0   0   0   0   0   0   0   0   0   0   0   0   0   0   0   0   0 "
      ]
     },
     "metadata": {},
     "output_type": "display_data"
    }
   ],
   "source": [
    "# Create uniform weight matrix (static in the current implementation)\n",
    "bW = data.frame(matrix(0, ncol = length(endo), nrow = length(endo)))\n",
    "rownames(bW) = names(endo)\n",
    "colnames(bW) = names(endo)\n",
    "for ( i in seq(1, length(endo))) {\n",
    "  for (j in seq(1, length(endo))) {\n",
    "    if (i != j) {\n",
    "      #print(c(i,j))\n",
    "      bW[i,j] = 1.0/(length(endo) - 1)\n",
    "    }\n",
    "  }\n",
    "}\n",
    "\n",
    "# Check weight matrix structure\n",
    "all(colnames(bW)==names(endo)[1:(length(endo)-1)])\n",
    "rowSums(bW)\n",
    "diag(as.matrix(bW))\n",
    "bW = as.matrix(bW)\n",
    "\n",
    "# convert matrix into list as required\n",
    "bWlist <- list()\n",
    "for (i in colnames(bW)) {\n",
    "  w_df <- data.frame(bW[,c(i)])\n",
    "  colnames(w_df) <- i\n",
    "  rownames(w_df) <- rownames(bW)\n",
    "  bWlist[[i]] <- w_df\n",
    "}"
   ]
  },
  {
   "cell_type": "code",
   "execution_count": 155,
   "metadata": {},
   "outputs": [
    {
     "data": {
      "text/html": [
       "58"
      ],
      "text/latex": [
       "58"
      ],
      "text/markdown": [
       "58"
      ],
      "text/plain": [
       "[1] 58"
      ]
     },
     "metadata": {},
     "output_type": "display_data"
    }
   ],
   "source": [
    "length(bWlist)"
   ]
  },
  {
   "cell_type": "code",
   "execution_count": null,
   "metadata": {},
   "outputs": [],
   "source": []
  },
  {
   "cell_type": "code",
   "execution_count": null,
   "metadata": {},
   "outputs": [],
   "source": [
    "## BGVAR\n",
    "# SSVS prior\n",
    "Hyperparm.ssvs <- list(tau0   = 0.1,  # coefficients: prior variance for the spike\n",
    "                       # (tau0 << tau1)\n",
    "                       tau1   = 3,    # coefficients: prior variance for the slab  \n",
    "                       # (tau0 << tau1)\n",
    "                       kappa0 = 0.1,  # covariances: prior variance for the spike \n",
    "                       # (kappa0 << kappa1)\n",
    "                       kappa1 = 7,    # covariances: prior variance for the slab \n",
    "                       # (kappa0 << kappa1)\n",
    "                       a_i    = 0.01, # prior for the shape parameter of the IG\n",
    "                       b_i    = 0.01, # prior for the scale parameter of the IG\n",
    "                       p_i    = 0.5,  # prior inclusion probability of coefficients\n",
    "                       q_ij   = 0.5   # prior inclusion probability of covariances\n",
    ")\n",
    "\n",
    "model <- bgvar(Data = endo, #endogenous variables\n",
    "               Ex = exo, # exogenous variables\n",
    "               W = bWlist, #static weight matrix (use uniform weights)\n",
    "               plag=7,\n",
    "               saves=100, burns=100, prior=\"SSVS\", SV=TRUE, hyperpara=Hyperparm.ssvs, \n",
    "               h = 292, #40% held out \n",
    "               thin = 1,\n",
    "               variable.list=NULL,\n",
    "               trend = FALSE,\n",
    "               save.country.store=FALSE\n",
    ")"
   ]
  },
  {
   "cell_type": "code",
   "execution_count": null,
   "metadata": {},
   "outputs": [],
   "source": []
  }
 ],
 "metadata": {
  "kernelspec": {
   "display_name": "R",
   "language": "R",
   "name": "ir"
  },
  "language_info": {
   "codemirror_mode": "r",
   "file_extension": ".r",
   "mimetype": "text/x-r-source",
   "name": "R",
   "pygments_lexer": "r",
   "version": "4.0.3"
  }
 },
 "nbformat": 4,
 "nbformat_minor": 4
}
