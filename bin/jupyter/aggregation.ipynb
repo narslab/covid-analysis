{
 "cells": [
  {
   "cell_type": "code",
   "execution_count": 1,
   "metadata": {},
   "outputs": [],
   "source": [
    "import pandas as pd\n",
    "import numpy as np\n",
    "import datetime as dt\n",
    "from string import digits\n",
    "\n",
    "import seaborn as sn\n",
    "import matplotlib.pyplot as plt"
   ]
  },
  {
   "cell_type": "code",
   "execution_count": 900,
   "metadata": {},
   "outputs": [],
   "source": [
    "iso_df = pd.read_csv('../../data/raw/iso_3digit_alpha_country_codes.csv', low_memory=False)\n",
    "airsavvi = pd.read_csv('../../data/tidy/airsavvi_list.csv')\n",
    "deterministic = pd.read_csv('../../data/raw/deterministic_wdi.csv', low_memory=False)\n",
    "cases = pd.read_csv('../../data/raw/confirmed_cases_global.csv', low_memory=False)\n",
    "deaths = pd.read_csv('../../data/raw/covid_deaths_global.csv', low_memory=False)\n",
    "activity = pd.read_csv('../../data/raw/google_activity.csv', low_memory=False)"
   ]
  },
  {
   "cell_type": "code",
   "execution_count": 901,
   "metadata": {},
   "outputs": [],
   "source": [
    "iso_exclude = ['ALB', 'ISL', 'MAC', 'HKG', 'ROU', 'TWN'] #partially missing data\n",
    "\n",
    "def series_lower(s):\n",
    "    return s.str.lower().str\n",
    "\n",
    "def country_matching(substring):\n",
    "    remove_digits = str.maketrans('', '', digits)\n",
    "    substring_lower  = substring.lower()\n",
    "    iso_lower = series_lower(iso_df['Definition'])\n",
    "    if substring == 'United States' or substring == 'US' or substring == 'United States of America':\n",
    "        return 'USA'\n",
    "    elif substring == 'Russia (Soviet Union)':\n",
    "        return 'RUS'\n",
    "    elif substring == 'India':\n",
    "        return 'IND'\n",
    "    elif substring == 'Turkey (Ottoman Empire)':\n",
    "        return 'TUR'\n",
    "    elif substring == 'Taiwan*':\n",
    "        return 'TWN'\n",
    "    elif substring == 'Republic of Korea' or substring == 'Korea, Republic of' or substring == 'Korea, South' or substring == 'South Korea':\n",
    "        return 'KOR'\n",
    "    elif substring == 'Vietnam, Democratic Republic of':\n",
    "        return 'VNM'\n",
    "    elif substring == 'Czech Republic' or substring == 'Czechia':\n",
    "        return 'CZE'\n",
    "    elif substring == 'German Federal Republic':\n",
    "        return 'DEU'\n",
    "    elif substring == 'Italy/Sardinia':\n",
    "        return 'ITA'\n",
    "    elif substring == 'Cambodia (Kampuchea)':\n",
    "        return 'KHM'\n",
    "    elif iso_lower.contains(substring_lower).any():\n",
    "        return iso_df['Code_Value'].loc[iso_lower.find(substring_lower) != -1].to_string().translate(remove_digits).strip()\n",
    "    else:\n",
    "        return \"N/A\"\n",
    "        \n",
    "def set_sort_idx(df, idx):\n",
    "    df = df.set_index(idx)\n",
    "    df = df.sort_index()\n",
    "    return df"
   ]
  },
  {
   "cell_type": "code",
   "execution_count": 902,
   "metadata": {
    "scrolled": true
   },
   "outputs": [],
   "source": [
    "airsavvi['iso'] = airsavvi['country'].apply(lambda x: country_matching(x))"
   ]
  },
  {
   "cell_type": "code",
   "execution_count": 903,
   "metadata": {},
   "outputs": [
    {
     "name": "stderr",
     "output_type": "stream",
     "text": [
      "C:\\Users\\nasko\\anaconda3\\lib\\site-packages\\pandas\\core\\strings.py:1954: UserWarning: This pattern has match groups. To actually get the groups, use str.extract.\n",
      "  return func(self, *args, **kwargs)\n"
     ]
    }
   ],
   "source": [
    "#Retain vars of interest (economic indicators)\n",
    "deterministic['iso'] = deterministic['country'].apply(lambda x: country_matching(x))\n",
    "deterministic = deterministic[deterministic.iso.apply(lambda x: x not in iso_exclude)]\n",
    "\n",
    "deterministic = deterministic[['iso', 'year','pop_WDI_PW', 'gdp_WDI_PW', 'gdppc_WDI_PW', 'growth_WDI_PW', 'pop_WDI', 'pop_den_WDI',\n",
    "                              'pop_urb_WDI', 'pop0_14_WDI', 'workingpop_WDI']]    \n",
    "\n",
    "deterministic = deterministic.loc[deterministic['iso'].isin(airsavvi['iso'])]"
   ]
  },
  {
   "cell_type": "code",
   "execution_count": 904,
   "metadata": {
    "scrolled": true
   },
   "outputs": [],
   "source": [
    "#Set iso as index, sort by index alphabetically\n",
    "deterministic = set_sort_idx(deterministic, 'iso')"
   ]
  },
  {
   "cell_type": "code",
   "execution_count": 905,
   "metadata": {},
   "outputs": [
    {
     "data": {
      "text/plain": [
       "57"
      ]
     },
     "execution_count": 905,
     "metadata": {},
     "output_type": "execute_result"
    }
   ],
   "source": [
    "#JHU tracking new COVID cases\n",
    "cases['iso'] = cases[\"Country/Region\"]  .apply(lambda x: country_matching(x))\n",
    "cases = cases[cases.iso.apply(lambda x: x not in iso_exclude)]\n",
    "\n",
    "#Aggregating new covid cases based on subregional breakdown\n",
    "total_cases = cases.groupby(by = ['iso']).sum()\n",
    "total_cases = total_cases.sort_index()\n",
    "\n",
    "#Subset of countries with airsavvi flight data from Feb 15 to Aug 31\n",
    "total_cases = total_cases.loc[total_cases.index.isin(airsavvi['iso'])]\n",
    "total_cases = total_cases.loc[:, '2/15/2020':'8/31/2020']\n",
    "\n",
    "len(total_cases)"
   ]
  },
  {
   "cell_type": "code",
   "execution_count": 906,
   "metadata": {},
   "outputs": [
    {
     "data": {
      "text/plain": [
       "57"
      ]
     },
     "execution_count": 906,
     "metadata": {},
     "output_type": "execute_result"
    }
   ],
   "source": [
    "#JHU tracking COVID deaths\n",
    "deaths['iso'] = deaths['Country/Region'].apply(lambda x: country_matching(x))\n",
    "deaths = deaths[deaths.iso.apply(lambda x: x not in iso_exclude)]\n",
    "\n",
    "#Aggregating covid deaths based on subregional breakdown\n",
    "total_deaths = deaths.groupby(by = ['iso']).sum()\n",
    "total_deaths = total_deaths.sort_index()\n",
    "\n",
    "#Subset of countries with airsavvi flight data from Feb 15 to Aug 31\n",
    "total_deaths = total_deaths.loc[total_deaths.index.isin(airsavvi['iso'])]\n",
    "total_deaths = total_deaths.loc[:, '2/15/2020':'8/31/2020']\n",
    "\n",
    "len(total_deaths)"
   ]
  },
  {
   "cell_type": "code",
   "execution_count": 907,
   "metadata": {},
   "outputs": [],
   "source": [
    "#Concatenate cases and deaths\n",
    "frames = [total_cases, total_deaths]\n",
    "result = pd.concat(frames, keys=['cases', 'deaths'])"
   ]
  },
  {
   "cell_type": "code",
   "execution_count": 908,
   "metadata": {},
   "outputs": [
    {
     "data": {
      "text/html": [
       "<div>\n",
       "<style scoped>\n",
       "    .dataframe tbody tr th:only-of-type {\n",
       "        vertical-align: middle;\n",
       "    }\n",
       "\n",
       "    .dataframe tbody tr th {\n",
       "        vertical-align: top;\n",
       "    }\n",
       "\n",
       "    .dataframe thead th {\n",
       "        text-align: right;\n",
       "    }\n",
       "</style>\n",
       "<table border=\"1\" class=\"dataframe\">\n",
       "  <thead>\n",
       "    <tr style=\"text-align: right;\">\n",
       "      <th></th>\n",
       "      <th>date</th>\n",
       "      <th>2020-02-15</th>\n",
       "      <th>2020-02-16</th>\n",
       "      <th>2020-02-17</th>\n",
       "      <th>2020-02-18</th>\n",
       "      <th>2020-02-19</th>\n",
       "      <th>2020-02-20</th>\n",
       "      <th>2020-02-21</th>\n",
       "      <th>2020-02-22</th>\n",
       "      <th>2020-02-23</th>\n",
       "      <th>2020-02-24</th>\n",
       "      <th>...</th>\n",
       "      <th>2020-08-22</th>\n",
       "      <th>2020-08-23</th>\n",
       "      <th>2020-08-24</th>\n",
       "      <th>2020-08-25</th>\n",
       "      <th>2020-08-26</th>\n",
       "      <th>2020-08-27</th>\n",
       "      <th>2020-08-28</th>\n",
       "      <th>2020-08-29</th>\n",
       "      <th>2020-08-30</th>\n",
       "      <th>2020-08-31</th>\n",
       "    </tr>\n",
       "    <tr>\n",
       "      <th>iso</th>\n",
       "      <th>activity</th>\n",
       "      <th></th>\n",
       "      <th></th>\n",
       "      <th></th>\n",
       "      <th></th>\n",
       "      <th></th>\n",
       "      <th></th>\n",
       "      <th></th>\n",
       "      <th></th>\n",
       "      <th></th>\n",
       "      <th></th>\n",
       "      <th></th>\n",
       "      <th></th>\n",
       "      <th></th>\n",
       "      <th></th>\n",
       "      <th></th>\n",
       "      <th></th>\n",
       "      <th></th>\n",
       "      <th></th>\n",
       "      <th></th>\n",
       "      <th></th>\n",
       "      <th></th>\n",
       "    </tr>\n",
       "  </thead>\n",
       "  <tbody>\n",
       "    <tr>\n",
       "      <th rowspan=\"5\" valign=\"top\">ARE</th>\n",
       "      <th>grocery</th>\n",
       "      <td>4.0</td>\n",
       "      <td>4.0</td>\n",
       "      <td>1.0</td>\n",
       "      <td>1.0</td>\n",
       "      <td>0.0</td>\n",
       "      <td>1.0</td>\n",
       "      <td>2.0</td>\n",
       "      <td>2.0</td>\n",
       "      <td>3.0</td>\n",
       "      <td>0.0</td>\n",
       "      <td>...</td>\n",
       "      <td>-9.0</td>\n",
       "      <td>1.0</td>\n",
       "      <td>-10.0</td>\n",
       "      <td>-8.0</td>\n",
       "      <td>-7.0</td>\n",
       "      <td>-5.0</td>\n",
       "      <td>-11.0</td>\n",
       "      <td>-5.0</td>\n",
       "      <td>2.0</td>\n",
       "      <td>-3.0</td>\n",
       "    </tr>\n",
       "    <tr>\n",
       "      <th>parks</th>\n",
       "      <td>5.0</td>\n",
       "      <td>4.0</td>\n",
       "      <td>5.0</td>\n",
       "      <td>5.0</td>\n",
       "      <td>4.0</td>\n",
       "      <td>6.0</td>\n",
       "      <td>6.0</td>\n",
       "      <td>4.0</td>\n",
       "      <td>3.0</td>\n",
       "      <td>5.0</td>\n",
       "      <td>...</td>\n",
       "      <td>-43.0</td>\n",
       "      <td>-37.0</td>\n",
       "      <td>-42.0</td>\n",
       "      <td>-41.0</td>\n",
       "      <td>-41.0</td>\n",
       "      <td>-42.0</td>\n",
       "      <td>-55.0</td>\n",
       "      <td>-46.0</td>\n",
       "      <td>-38.0</td>\n",
       "      <td>-40.0</td>\n",
       "    </tr>\n",
       "    <tr>\n",
       "      <th>residential</th>\n",
       "      <td>1.0</td>\n",
       "      <td>1.0</td>\n",
       "      <td>1.0</td>\n",
       "      <td>1.0</td>\n",
       "      <td>1.0</td>\n",
       "      <td>1.0</td>\n",
       "      <td>1.0</td>\n",
       "      <td>1.0</td>\n",
       "      <td>1.0</td>\n",
       "      <td>1.0</td>\n",
       "      <td>...</td>\n",
       "      <td>8.0</td>\n",
       "      <td>22.0</td>\n",
       "      <td>10.0</td>\n",
       "      <td>10.0</td>\n",
       "      <td>10.0</td>\n",
       "      <td>11.0</td>\n",
       "      <td>10.0</td>\n",
       "      <td>8.0</td>\n",
       "      <td>9.0</td>\n",
       "      <td>10.0</td>\n",
       "    </tr>\n",
       "    <tr>\n",
       "      <th>retail</th>\n",
       "      <td>0.0</td>\n",
       "      <td>1.0</td>\n",
       "      <td>-1.0</td>\n",
       "      <td>-2.0</td>\n",
       "      <td>-2.0</td>\n",
       "      <td>-2.0</td>\n",
       "      <td>-3.0</td>\n",
       "      <td>-2.0</td>\n",
       "      <td>-1.0</td>\n",
       "      <td>-3.0</td>\n",
       "      <td>...</td>\n",
       "      <td>-23.0</td>\n",
       "      <td>-19.0</td>\n",
       "      <td>-25.0</td>\n",
       "      <td>-24.0</td>\n",
       "      <td>-23.0</td>\n",
       "      <td>-22.0</td>\n",
       "      <td>-30.0</td>\n",
       "      <td>-23.0</td>\n",
       "      <td>-18.0</td>\n",
       "      <td>-21.0</td>\n",
       "    </tr>\n",
       "    <tr>\n",
       "      <th>transit</th>\n",
       "      <td>0.0</td>\n",
       "      <td>1.0</td>\n",
       "      <td>1.0</td>\n",
       "      <td>0.0</td>\n",
       "      <td>-1.0</td>\n",
       "      <td>1.0</td>\n",
       "      <td>0.0</td>\n",
       "      <td>-2.0</td>\n",
       "      <td>-1.0</td>\n",
       "      <td>-1.0</td>\n",
       "      <td>...</td>\n",
       "      <td>-44.0</td>\n",
       "      <td>-53.0</td>\n",
       "      <td>-42.0</td>\n",
       "      <td>-41.0</td>\n",
       "      <td>-41.0</td>\n",
       "      <td>-41.0</td>\n",
       "      <td>-47.0</td>\n",
       "      <td>-42.0</td>\n",
       "      <td>-40.0</td>\n",
       "      <td>-41.0</td>\n",
       "    </tr>\n",
       "  </tbody>\n",
       "</table>\n",
       "<p>5 rows × 199 columns</p>\n",
       "</div>"
      ],
      "text/plain": [
       "date             2020-02-15  2020-02-16  2020-02-17  2020-02-18  2020-02-19  \\\n",
       "iso activity                                                                  \n",
       "ARE grocery             4.0         4.0         1.0         1.0         0.0   \n",
       "    parks               5.0         4.0         5.0         5.0         4.0   \n",
       "    residential         1.0         1.0         1.0         1.0         1.0   \n",
       "    retail              0.0         1.0        -1.0        -2.0        -2.0   \n",
       "    transit             0.0         1.0         1.0         0.0        -1.0   \n",
       "\n",
       "date             2020-02-20  2020-02-21  2020-02-22  2020-02-23  2020-02-24  \\\n",
       "iso activity                                                                  \n",
       "ARE grocery             1.0         2.0         2.0         3.0         0.0   \n",
       "    parks               6.0         6.0         4.0         3.0         5.0   \n",
       "    residential         1.0         1.0         1.0         1.0         1.0   \n",
       "    retail             -2.0        -3.0        -2.0        -1.0        -3.0   \n",
       "    transit             1.0         0.0        -2.0        -1.0        -1.0   \n",
       "\n",
       "date             ...  2020-08-22  2020-08-23  2020-08-24  2020-08-25  \\\n",
       "iso activity     ...                                                   \n",
       "ARE grocery      ...        -9.0         1.0       -10.0        -8.0   \n",
       "    parks        ...       -43.0       -37.0       -42.0       -41.0   \n",
       "    residential  ...         8.0        22.0        10.0        10.0   \n",
       "    retail       ...       -23.0       -19.0       -25.0       -24.0   \n",
       "    transit      ...       -44.0       -53.0       -42.0       -41.0   \n",
       "\n",
       "date             2020-08-26  2020-08-27  2020-08-28  2020-08-29  2020-08-30  \\\n",
       "iso activity                                                                  \n",
       "ARE grocery            -7.0        -5.0       -11.0        -5.0         2.0   \n",
       "    parks             -41.0       -42.0       -55.0       -46.0       -38.0   \n",
       "    residential        10.0        11.0        10.0         8.0         9.0   \n",
       "    retail            -23.0       -22.0       -30.0       -23.0       -18.0   \n",
       "    transit           -41.0       -41.0       -47.0       -42.0       -40.0   \n",
       "\n",
       "date             2020-08-31  \n",
       "iso activity                 \n",
       "ARE grocery            -3.0  \n",
       "    parks             -40.0  \n",
       "    residential        10.0  \n",
       "    retail            -21.0  \n",
       "    transit           -41.0  \n",
       "\n",
       "[5 rows x 199 columns]"
      ]
     },
     "execution_count": 908,
     "metadata": {},
     "output_type": "execute_result"
    }
   ],
   "source": [
    "activity = activity.rename(columns={\"country_region\": \"country\",\n",
    "                        \"country_region_code\": \"iso\", #multi-index label consistency across different sources\n",
    "                        \"retail_and_recreation_percent_change_from_baseline\": \"retail\", \n",
    "                        \"grocery_and_pharmacy_percent_change_from_baseline\": \"grocery\",\n",
    "                        \"parks_percent_change_from_baseline\": \"parks\",\n",
    "                        \"transit_stations_percent_change_from_baseline\": \"transit\",\n",
    "                        \"workplaces_percent_change_from_baseline\": \"workplaces\",\n",
    "                        \"residential_percent_change_from_baseline\": \"residential\"})\n",
    "\n",
    "activity['iso'] = activity[\"country\"].apply(lambda x: country_matching(x))\n",
    "activity = activity[activity.iso.apply(lambda x: x not in iso_exclude)]\n",
    "\n",
    "activity = activity.loc[activity['iso'].isin(airsavvi['iso'])]\n",
    "activity = activity[['iso', 'date','retail', 'grocery', 'parks', 'transit', 'workplaces', 'residential']]\n",
    "\n",
    "#Aggregating baselines by activity type\n",
    "unpivoted = pd.melt(activity, id_vars=['iso', 'date'], value_vars = ['retail', 'grocery', 'parks', 'transit', 'workplaces', 'residential'], \n",
    "        var_name=\"activity\", \n",
    "        value_name=\"percent_change\")\n",
    "\n",
    "unpivoted = unpivoted.pivot_table(index=['iso','activity'],columns='date',values='percent_change')\n",
    "\n",
    "#Limit dataset to Feb 15-Aug 31\n",
    "unpivoted = unpivoted.loc[:, '2020-02-15':'2020-08-31']\n",
    "\n",
    "unpivoted.head()"
   ]
  },
  {
   "cell_type": "code",
   "execution_count": 909,
   "metadata": {},
   "outputs": [],
   "source": [
    "#Set iso as index, sort by index alphabetically\n",
    "activity = set_sort_idx(activity, 'iso')"
   ]
  },
  {
   "cell_type": "code",
   "execution_count": 887,
   "metadata": {},
   "outputs": [],
   "source": [
    "#Print output in tidy\n",
    "deterministic.to_csv('../../data/tidy/deterministic.csv')\n",
    "result.to_csv(\"../../data/tidy/cases_deaths_concat.csv\")\n",
    "unpivoted.to_csv(\"../../data/tidy/google_activity.csv\")"
   ]
  },
  {
   "cell_type": "code",
   "execution_count": 910,
   "metadata": {},
   "outputs": [
    {
     "data": {
      "image/png": "[encoded data removed]",
      "text/plain": [
       "<Figure size 432x288 with 2 Axes>"
      ]
     },
     "metadata": {
      "needs_background": "light"
     },
     "output_type": "display_data"
    }
   ],
   "source": [
    "#Correlation matrix - deterministic vars\n",
    "cor_matrix = deterministic.iloc[:,7:].corr()\n",
    "\n",
    "sn.heatmap(cor_matrix, annot=True)\n",
    "plt.show()"
   ]
  }
 ],
 "metadata": {
  "kernelspec": {
   "display_name": "Python 3",
   "language": "python",
   "name": "python3"
  },
  "language_info": {
   "codemirror_mode": {
    "name": "ipython",
    "version": 3
   },
   "file_extension": ".py",
   "mimetype": "text/x-python",
   "name": "python",
   "nbconvert_exporter": "python",
   "pygments_lexer": "ipython3",
   "version": "3.8.3"
  }
 },
 "nbformat": 4,
 "nbformat_minor": 4
}
