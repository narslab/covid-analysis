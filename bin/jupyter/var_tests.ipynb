{
 "cells": [
  {
   "cell_type": "markdown",
   "metadata": {},
   "source": [
    "# Pre-modeling tests for Global Vector Autoregression (GVAR) framework"
   ]
  },
  {
   "cell_type": "markdown",
   "metadata": {},
   "source": [
    "## 1. Granger causality\n",
    "Granger causality in time series is based on the following research hypotheses:\n",
    "- An effect can only occur after a cause\n",
    "- Knowledge of the cause improves the prediction of the effect\n",
    "This set of hypotheses can be tested by computing the forecast error variance in (a) the case where all time series are included in the prediction and (b) the case where the supposed causal time series is left out. If leaving out the causal time series increases the variance of the forecast error, then the left-out time series can be said to be Granger-causal of the other one. The statistical significance of the comparison can be measured via the F-statistic. (See [Stokes and Purdon, 2017)][1]).\n",
    "\n",
    "Also, keep in mind that the causality test needs to be done in concert with stationarity tests. It is possible that time-series that have not been appropriately differenced will not provide enough evidence to fail to reject the null hypothesis (that there is no Granger causality).\n",
    "\n",
    "One approach is to use the `causality` function in the `vars` library to demonstrate Granger causality testing. Further documentation on the function is available [here][2]. Another is to use the `grangers` [library][3].\n",
    "\n",
    "Given the above definition, a prediction has to be made before the Granger causality test can be run. Thus, any approach would require estimating a VAR model first. The relevant functions perform this automatically, however. It makes sense, though, to test for cointegration and stationarity (and adjust or transform the time series accordingly) before conducting the Granger causality test.\n",
    "\n",
    "[1]: https://www.pnas.org/content/114/34/E7063\n",
    "[2]: https://rdrr.io/cran/vars/man/causality.html\n",
    "[3]: https://github.com/MatFar88/grangers"
   ]
  },
  {
   "cell_type": "code",
   "execution_count": 2,
   "metadata": {},
   "outputs": [
    {
     "name": "stderr",
     "output_type": "stream",
     "text": [
      "Loading required package: MASS\n",
      "\n",
      "Loading required package: strucchange\n",
      "\n",
      "Loading required package: zoo\n",
      "\n",
      "\n",
      "Attaching package: ‘zoo’\n",
      "\n",
      "\n",
      "The following objects are masked from ‘package:base’:\n",
      "\n",
      "    as.Date, as.Date.numeric\n",
      "\n",
      "\n",
      "Loading required package: sandwich\n",
      "\n",
      "Loading required package: urca\n",
      "\n",
      "Loading required package: lmtest\n",
      "\n"
     ]
    }
   ],
   "source": [
    "library(vars)\n",
    "library(reshape2)"
   ]
  },
  {
   "cell_type": "code",
   "execution_count": 4,
   "metadata": {},
   "outputs": [
    {
     "data": {
      "text/html": [
       "<table>\n",
       "<caption>A data.frame: 6 × 12</caption>\n",
       "<thead>\n",
       "\t<tr><th></th><th scope=col>Country</th><th scope=col>Date</th><th scope=col>cov</th><th scope=col>car</th><th scope=col>groc</th><th scope=col>parks</th><th scope=col>home</th><th scope=col>reta</th><th scope=col>tran</th><th scope=col>tstop</th><th scope=col>walk</th><th scope=col>work</th></tr>\n",
       "\t<tr><th></th><th scope=col>&lt;chr&gt;</th><th scope=col>&lt;fct&gt;</th><th scope=col>&lt;chr&gt;</th><th scope=col>&lt;chr&gt;</th><th scope=col>&lt;chr&gt;</th><th scope=col>&lt;chr&gt;</th><th scope=col>&lt;chr&gt;</th><th scope=col>&lt;chr&gt;</th><th scope=col>&lt;chr&gt;</th><th scope=col>&lt;chr&gt;</th><th scope=col>&lt;chr&gt;</th><th scope=col>&lt;chr&gt;</th></tr>\n",
       "</thead>\n",
       "<tbody>\n",
       "\t<tr><th scope=row>1</th><td>Albania</td><td>X1.13.2020</td><td>0</td><td>100   </td><td>NA</td><td>NA</td><td>NA</td><td>NA</td><td>NA</td><td>NA</td><td>100   </td><td>NA</td></tr>\n",
       "\t<tr><th scope=row>2</th><td>Albania</td><td>X1.14.2020</td><td>0</td><td>95.3  </td><td>NA</td><td>NA</td><td>NA</td><td>NA</td><td>NA</td><td>NA</td><td>100.68</td><td>NA</td></tr>\n",
       "\t<tr><th scope=row>3</th><td>Albania</td><td>X1.15.2020</td><td>0</td><td>101.43</td><td>NA</td><td>NA</td><td>NA</td><td>NA</td><td>NA</td><td>NA</td><td>98.93 </td><td>NA</td></tr>\n",
       "\t<tr><th scope=row>4</th><td>Albania</td><td>X1.16.2020</td><td>0</td><td>97.2  </td><td>NA</td><td>NA</td><td>NA</td><td>NA</td><td>NA</td><td>NA</td><td>98.46 </td><td>NA</td></tr>\n",
       "\t<tr><th scope=row>5</th><td>Albania</td><td>X1.17.2020</td><td>0</td><td>103.55</td><td>NA</td><td>NA</td><td>NA</td><td>NA</td><td>NA</td><td>NA</td><td>100.85</td><td>NA</td></tr>\n",
       "\t<tr><th scope=row>6</th><td>Albania</td><td>X1.18.2020</td><td>0</td><td>112.67</td><td>NA</td><td>NA</td><td>NA</td><td>NA</td><td>NA</td><td>NA</td><td>100.13</td><td>NA</td></tr>\n",
       "</tbody>\n",
       "</table>\n"
      ],
      "text/latex": [
       "A data.frame: 6 × 12\n",
       "\\begin{tabular}{r|llllllllllll}\n",
       "  & Country & Date & cov & car & groc & parks & home & reta & tran & tstop & walk & work\\\\\n",
       "  & <chr> & <fct> & <chr> & <chr> & <chr> & <chr> & <chr> & <chr> & <chr> & <chr> & <chr> & <chr>\\\\\n",
       "\\hline\n",
       "\t1 & Albania & X1.13.2020 & 0 & 100    & NA & NA & NA & NA & NA & NA & 100    & NA\\\\\n",
       "\t2 & Albania & X1.14.2020 & 0 & 95.3   & NA & NA & NA & NA & NA & NA & 100.68 & NA\\\\\n",
       "\t3 & Albania & X1.15.2020 & 0 & 101.43 & NA & NA & NA & NA & NA & NA & 98.93  & NA\\\\\n",
       "\t4 & Albania & X1.16.2020 & 0 & 97.2   & NA & NA & NA & NA & NA & NA & 98.46  & NA\\\\\n",
       "\t5 & Albania & X1.17.2020 & 0 & 103.55 & NA & NA & NA & NA & NA & NA & 100.85 & NA\\\\\n",
       "\t6 & Albania & X1.18.2020 & 0 & 112.67 & NA & NA & NA & NA & NA & NA & 100.13 & NA\\\\\n",
       "\\end{tabular}\n"
      ],
      "text/markdown": [
       "\n",
       "A data.frame: 6 × 12\n",
       "\n",
       "| <!--/--> | Country &lt;chr&gt; | Date &lt;fct&gt; | cov &lt;chr&gt; | car &lt;chr&gt; | groc &lt;chr&gt; | parks &lt;chr&gt; | home &lt;chr&gt; | reta &lt;chr&gt; | tran &lt;chr&gt; | tstop &lt;chr&gt; | walk &lt;chr&gt; | work &lt;chr&gt; |\n",
       "|---|---|---|---|---|---|---|---|---|---|---|---|---|\n",
       "| 1 | Albania | X1.13.2020 | 0 | 100    | NA | NA | NA | NA | NA | NA | 100    | NA |\n",
       "| 2 | Albania | X1.14.2020 | 0 | 95.3   | NA | NA | NA | NA | NA | NA | 100.68 | NA |\n",
       "| 3 | Albania | X1.15.2020 | 0 | 101.43 | NA | NA | NA | NA | NA | NA | 98.93  | NA |\n",
       "| 4 | Albania | X1.16.2020 | 0 | 97.2   | NA | NA | NA | NA | NA | NA | 98.46  | NA |\n",
       "| 5 | Albania | X1.17.2020 | 0 | 103.55 | NA | NA | NA | NA | NA | NA | 100.85 | NA |\n",
       "| 6 | Albania | X1.18.2020 | 0 | 112.67 | NA | NA | NA | NA | NA | NA | 100.13 | NA |\n",
       "\n"
      ],
      "text/plain": [
       "  Country Date       cov car    groc parks home reta tran tstop walk   work\n",
       "1 Albania X1.13.2020 0   100    NA   NA    NA   NA   NA   NA    100    NA  \n",
       "2 Albania X1.14.2020 0   95.3   NA   NA    NA   NA   NA   NA    100.68 NA  \n",
       "3 Albania X1.15.2020 0   101.43 NA   NA    NA   NA   NA   NA    98.93  NA  \n",
       "4 Albania X1.16.2020 0   97.2   NA   NA    NA   NA   NA   NA    98.46  NA  \n",
       "5 Albania X1.17.2020 0   103.55 NA   NA    NA   NA   NA   NA    100.85 NA  \n",
       "6 Albania X1.18.2020 0   112.67 NA   NA    NA   NA   NA   NA    100.13 NA  "
      ]
     },
     "metadata": {},
     "output_type": "display_data"
    },
    {
     "name": "stderr",
     "output_type": "stream",
     "text": [
      "Warning message in eval(expr, envir, enclos):\n",
      "“NAs introduced by coercion”\n"
     ]
    }
   ],
   "source": [
    "df <- read.csv('../../data/tidy/cases_mobility_activity.csv') #note that file path may change\n",
    "\n",
    "## PREPROCESSING STEPS IN PREVIOUS FORMAT\n",
    "df <- df[, c(2, 4, 8:191)] #note that this will be irrelevant once we are working with a clean dataframe\n",
    "\n",
    "melted.df <- melt(df, id.vars = c('region', 'transportation_type'))\n",
    "m.data <- dcast(melted.df, region + variable~transportation_type)\n",
    "colnames(m.data) = c('Country', 'Date', 'cov', 'car', 'groc', 'parks', 'home', 'reta', 'tran', 'tstop', 'walk', 'work' )\n",
    "\n",
    "#m.data$Country <- as.factor(m.data$Country)\n",
    "head(m.data)\n",
    "#Convert numbers to numeric\n",
    "for (i in seq(3, ncol(m.data) ) ) {\n",
    "    m.data[,i] = as.numeric(m.data[,i], na.pass=TRUE)\n",
    "}\n",
    "\n",
    "# Correct Google (add 100 to baseline)\n",
    "m.data[,c( 'groc', 'parks', 'home', 'reta',  'tstop', 'work' )] = m.data[,c( 'groc', 'parks', 'home', 'reta',  'tstop', 'work' )] + 100\n",
    "\n",
    "# Remove selected variables\n",
    "endovars <-  c( 'cov', 'home', 'tstop', 'work' )\n",
    "m.data <- subset(m.data, select = c('Country', endovars) )\n",
    "#m.data <- na.omit(m.data)"
   ]
  },
  {
   "cell_type": "code",
   "execution_count": 5,
   "metadata": {},
   "outputs": [
    {
     "data": {
      "text/html": [
       "<table>\n",
       "<caption>A data.frame: 6 × 5</caption>\n",
       "<thead>\n",
       "\t<tr><th></th><th scope=col>Country</th><th scope=col>cov</th><th scope=col>home</th><th scope=col>tstop</th><th scope=col>work</th></tr>\n",
       "\t<tr><th></th><th scope=col>&lt;chr&gt;</th><th scope=col>&lt;dbl&gt;</th><th scope=col>&lt;dbl&gt;</th><th scope=col>&lt;dbl&gt;</th><th scope=col>&lt;dbl&gt;</th></tr>\n",
       "</thead>\n",
       "<tbody>\n",
       "\t<tr><th scope=row>1</th><td>Albania</td><td>0</td><td>NA</td><td>NA</td><td>NA</td></tr>\n",
       "\t<tr><th scope=row>2</th><td>Albania</td><td>0</td><td>NA</td><td>NA</td><td>NA</td></tr>\n",
       "\t<tr><th scope=row>3</th><td>Albania</td><td>0</td><td>NA</td><td>NA</td><td>NA</td></tr>\n",
       "\t<tr><th scope=row>4</th><td>Albania</td><td>0</td><td>NA</td><td>NA</td><td>NA</td></tr>\n",
       "\t<tr><th scope=row>5</th><td>Albania</td><td>0</td><td>NA</td><td>NA</td><td>NA</td></tr>\n",
       "\t<tr><th scope=row>6</th><td>Albania</td><td>0</td><td>NA</td><td>NA</td><td>NA</td></tr>\n",
       "</tbody>\n",
       "</table>\n"
      ],
      "text/latex": [
       "A data.frame: 6 × 5\n",
       "\\begin{tabular}{r|lllll}\n",
       "  & Country & cov & home & tstop & work\\\\\n",
       "  & <chr> & <dbl> & <dbl> & <dbl> & <dbl>\\\\\n",
       "\\hline\n",
       "\t1 & Albania & 0 & NA & NA & NA\\\\\n",
       "\t2 & Albania & 0 & NA & NA & NA\\\\\n",
       "\t3 & Albania & 0 & NA & NA & NA\\\\\n",
       "\t4 & Albania & 0 & NA & NA & NA\\\\\n",
       "\t5 & Albania & 0 & NA & NA & NA\\\\\n",
       "\t6 & Albania & 0 & NA & NA & NA\\\\\n",
       "\\end{tabular}\n"
      ],
      "text/markdown": [
       "\n",
       "A data.frame: 6 × 5\n",
       "\n",
       "| <!--/--> | Country &lt;chr&gt; | cov &lt;dbl&gt; | home &lt;dbl&gt; | tstop &lt;dbl&gt; | work &lt;dbl&gt; |\n",
       "|---|---|---|---|---|---|\n",
       "| 1 | Albania | 0 | NA | NA | NA |\n",
       "| 2 | Albania | 0 | NA | NA | NA |\n",
       "| 3 | Albania | 0 | NA | NA | NA |\n",
       "| 4 | Albania | 0 | NA | NA | NA |\n",
       "| 5 | Albania | 0 | NA | NA | NA |\n",
       "| 6 | Albania | 0 | NA | NA | NA |\n",
       "\n"
      ],
      "text/plain": [
       "  Country cov home tstop work\n",
       "1 Albania 0   NA   NA    NA  \n",
       "2 Albania 0   NA   NA    NA  \n",
       "3 Albania 0   NA   NA    NA  \n",
       "4 Albania 0   NA   NA    NA  \n",
       "5 Albania 0   NA   NA    NA  \n",
       "6 Albania 0   NA   NA    NA  "
      ]
     },
     "metadata": {},
     "output_type": "display_data"
    }
   ],
   "source": [
    "head(m.data)"
   ]
  },
  {
   "cell_type": "code",
   "execution_count": 6,
   "metadata": {},
   "outputs": [],
   "source": [
    "df.Arg = m.data[m.data$Country == 'Argentina',]\n",
    "rownames(df.Arg) <- 1:nrow(df.Arg) #renumber rows\n",
    "df.Arg <- subset(df.Arg, select = -Country) #remove Country column\n",
    "df.Arg[2:184,c(\"cov\")] = diff(df.Arg[1:184,c(\"cov\")]) # first difference the covid cases (since these are cumulative)\n",
    "# df.Arg[rowSums(is.na(df.Arg)) > 0,] # find where the NAs are (remove for this test)\n",
    "# you can see here where smoothing helps; simply removing NAs will skip time rows\n",
    "# we see that there are no NAs between rows 34 and 181\n",
    "\n",
    "df.Arg = df.Arg[35:100,]\n",
    "df.Arg[2:66,c(\"cov\")] = diff(df.Arg[1:66,c(\"cov\")]) # difference again for stationarity, perhaps.\n",
    "df.Arg[2:66,c(\"home\")] = diff(df.Arg[1:66,c(\"home\")]) # difference again for stationarity, perhaps.\n",
    "df.Arg[2:66,c(\"tstop\")] = diff(df.Arg[1:66,c(\"tstop\")]) # difference again for stationarity, perhaps.\n",
    "df.Arg[2:66,c(\"work\")] = diff(df.Arg[1:66,c(\"work\")]) # difference again for stationarity, perhaps.\n",
    "\n",
    "#df.Arg = log(df.Arg) #take logs"
   ]
  },
  {
   "cell_type": "code",
   "execution_count": 7,
   "metadata": {},
   "outputs": [
    {
     "data": {
      "text/html": [
       "<style>\n",
       ".list-inline {list-style: none; margin:0; padding: 0}\n",
       ".list-inline>li {display: inline-block}\n",
       ".list-inline>li:not(:last-child)::after {content: \"\\00b7\"; padding: 0 .5ex}\n",
       "</style>\n",
       "<ol class=list-inline><li>-85</li><li>-9</li><li>0</li><li>-4</li><li>2</li><li>-10</li><li>9</li><li>-51</li><li>56</li><li>59</li><li>-64</li><li>2</li><li>-12</li><li>7</li><li>22</li><li>-18</li><li>2</li><li>-2</li><li>0</li><li>-15</li><li>10</li><li>22</li><li>-14</li><li>-6</li><li>6</li><li>-3</li><li>-22</li><li>16</li><li>17</li></ol>\n"
      ],
      "text/latex": [
       "\\begin{enumerate*}\n",
       "\\item -85\n",
       "\\item -9\n",
       "\\item 0\n",
       "\\item -4\n",
       "\\item 2\n",
       "\\item -10\n",
       "\\item 9\n",
       "\\item -51\n",
       "\\item 56\n",
       "\\item 59\n",
       "\\item -64\n",
       "\\item 2\n",
       "\\item -12\n",
       "\\item 7\n",
       "\\item 22\n",
       "\\item -18\n",
       "\\item 2\n",
       "\\item -2\n",
       "\\item 0\n",
       "\\item -15\n",
       "\\item 10\n",
       "\\item 22\n",
       "\\item -14\n",
       "\\item -6\n",
       "\\item 6\n",
       "\\item -3\n",
       "\\item -22\n",
       "\\item 16\n",
       "\\item 17\n",
       "\\end{enumerate*}\n"
      ],
      "text/markdown": [
       "1. -85\n",
       "2. -9\n",
       "3. 0\n",
       "4. -4\n",
       "5. 2\n",
       "6. -10\n",
       "7. 9\n",
       "8. -51\n",
       "9. 56\n",
       "10. 59\n",
       "11. -64\n",
       "12. 2\n",
       "13. -12\n",
       "14. 7\n",
       "15. 22\n",
       "16. -18\n",
       "17. 2\n",
       "18. -2\n",
       "19. 0\n",
       "20. -15\n",
       "21. 10\n",
       "22. 22\n",
       "23. -14\n",
       "24. -6\n",
       "25. 6\n",
       "26. -3\n",
       "27. -22\n",
       "28. 16\n",
       "29. 17\n",
       "\n",
       "\n"
      ],
      "text/plain": [
       " [1] -85  -9   0  -4   2 -10   9 -51  56  59 -64   2 -12   7  22 -18   2  -2   0\n",
       "[20] -15  10  22 -14  -6   6  -3 -22  16  17"
      ]
     },
     "metadata": {},
     "output_type": "display_data"
    }
   ],
   "source": [
    "diff(df.Arg[1:30,'work'])"
   ]
  },
  {
   "cell_type": "code",
   "execution_count": 130,
   "metadata": {},
   "outputs": [
    {
     "data": {
      "text/html": [
       "<table>\n",
       "<caption>A data.frame: 0 × 4</caption>\n",
       "<thead>\n",
       "\t<tr><th scope=col>cov</th><th scope=col>home</th><th scope=col>tstop</th><th scope=col>work</th></tr>\n",
       "\t<tr><th scope=col>&lt;dbl&gt;</th><th scope=col>&lt;dbl&gt;</th><th scope=col>&lt;dbl&gt;</th><th scope=col>&lt;dbl&gt;</th></tr>\n",
       "</thead>\n",
       "<tbody>\n",
       "</tbody>\n",
       "</table>\n"
      ],
      "text/latex": [
       "A data.frame: 0 × 4\n",
       "\\begin{tabular}{llll}\n",
       " cov & home & tstop & work\\\\\n",
       " <dbl> & <dbl> & <dbl> & <dbl>\\\\\n",
       "\\hline\n",
       "\\end{tabular}\n"
      ],
      "text/markdown": [
       "\n",
       "A data.frame: 0 × 4\n",
       "\n",
       "| cov &lt;dbl&gt; | home &lt;dbl&gt; | tstop &lt;dbl&gt; | work &lt;dbl&gt; |\n",
       "|---|---|---|---|\n",
       "\n"
      ],
      "text/plain": [
       "     cov home tstop work"
      ]
     },
     "metadata": {},
     "output_type": "display_data"
    }
   ],
   "source": [
    "df.Arg[rowSums(is.na(df.Arg)) > 0,] # Check again for NAs"
   ]
  },
  {
   "cell_type": "code",
   "execution_count": 12,
   "metadata": {},
   "outputs": [
    {
     "data": {
      "text/plain": [
       "$Granger\n",
       "\n",
       "\tGranger causality H0: cov do not Granger-cause home tstop work\n",
       "\n",
       "data:  VAR object var.2c\n",
       "F-Test = 0.39345, df1 = 30, df2 = 60, p-value = 0.9967\n",
       "\n",
       "\n",
       "$Instant\n",
       "\n",
       "\tH0: No instantaneous causality between: cov and home tstop work\n",
       "\n",
       "data:  VAR object var.2c\n",
       "Chi-squared = 8.7271, df = 3, p-value = 0.03315\n",
       "\n"
      ]
     },
     "metadata": {},
     "output_type": "display_data"
    }
   ],
   "source": [
    "var.2c <- VAR(df.Arg, p = 10, type = \"const\")\n",
    "res <- causality(var.2c, cause = \"cov\")\n",
    "\n",
    "#use a robust HC variance-covariance matrix for the Granger test:\n",
    "causality(var.2c, cause = \"cov\", vcov.=vcovHC(var.2c))\n",
    "\n",
    "#use a wild-bootstrap procedure to for the Granger test\n",
    "## Not run: causality(var.2c, cause = \"cov\", boot=TRUE, boot.runs=1000)"
   ]
  },
  {
   "cell_type": "code",
   "execution_count": 30,
   "metadata": {},
   "outputs": [
    {
     "data": {
      "text/html": [
       "<strong>$statistic</strong> = <table>\n",
       "<caption>A matrix: 1 × 1 of type dbl</caption>\n",
       "<tbody>\n",
       "\t<tr><td>0.9106098</td></tr>\n",
       "</tbody>\n",
       "</table>\n"
      ],
      "text/latex": [
       "\\textbf{\\$statistic} = A matrix: 1 × 1 of type dbl\n",
       "\\begin{tabular}{l}\n",
       "\t 0.9106098\\\\\n",
       "\\end{tabular}\n"
      ],
      "text/markdown": [
       "**$statistic** = \n",
       "A matrix: 1 × 1 of type dbl\n",
       "\n",
       "| 0.9106098 |\n",
       "\n"
      ],
      "text/plain": [
       "$statistic\n",
       "          [,1]\n",
       "[1,] 0.9106098\n",
       "attr(,\"names\")\n",
       "[1] \"F-Test\"\n"
      ]
     },
     "metadata": {},
     "output_type": "display_data"
    }
   ],
   "source": [
    "res$Granger[1]"
   ]
  },
  {
   "cell_type": "markdown",
   "metadata": {},
   "source": [
    "High p-values imply no Granger causality."
   ]
  },
  {
   "cell_type": "markdown",
   "metadata": {},
   "source": [
    "## 2. Cointegration"
   ]
  },
  {
   "cell_type": "markdown",
   "metadata": {},
   "source": [
    "## 3. Stationarity"
   ]
  },
  {
   "cell_type": "markdown",
   "metadata": {},
   "source": [
    "## 4. Smoothing (kernel transformations)\n",
    "The purpose of smoothing is to remove extreme points, zeros and other shifts that might introduce unnecessary noise in the model."
   ]
  }
 ],
 "metadata": {
  "kernelspec": {
   "display_name": "R",
   "language": "R",
   "name": "ir"
  },
  "language_info": {
   "codemirror_mode": "r",
   "file_extension": ".r",
   "mimetype": "text/x-r-source",
   "name": "R",
   "pygments_lexer": "r",
   "version": "4.0.2"
  }
 },
 "nbformat": 4,
 "nbformat_minor": 4
}
