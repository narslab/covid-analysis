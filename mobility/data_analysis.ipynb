{
 "cells": [
  {
   "cell_type": "code",
   "execution_count": 31,
   "metadata": {},
   "outputs": [
    {
     "data": {
      "application/vnd.jupyter.widget-view+json": {
       "model_id": "352cd8a33e26475493b84765052eecb8",
       "version_major": 2,
       "version_minor": 0
      },
      "text/plain": [
       "interactive(children=(Text(value='Colombia', description='country'), Output()), _dom_classes=('widget-interact…"
      ]
     },
     "metadata": {},
     "output_type": "display_data"
    },
    {
     "data": {
      "application/vnd.jupyter.widget-view+json": {
       "model_id": "1342d772f71b4d9ca8e4d0eaf4c492c5",
       "version_major": 2,
       "version_minor": 0
      },
      "text/plain": [
       "interactive(children=(Text(value='Bulgaria', description='country'), Output()), _dom_classes=('widget-interact…"
      ]
     },
     "metadata": {},
     "output_type": "display_data"
    },
    {
     "data": {
      "text/plain": [
       "<function __main__.apple_mobility_trends(country)>"
      ]
     },
     "execution_count": 31,
     "metadata": {},
     "output_type": "execute_result"
    }
   ],
   "source": [
    "import pandas as pd\n",
    "import numpy as np\n",
    "import time\n",
    "from datetime import datetime\n",
    "# install plotly thru conda if jupyter cannot locate the module thru pip\n",
    "import plotly.express as px\n",
    "import plotly.graph_objects as go #object properties (figure)\n",
    "import chart_studio.plotly as py\n",
    "from ipywidgets import interact\n",
    "\n",
    "\n",
    "applemobtrends_df = pd.read_csv('applemobilitytrends-2020-07-14.csv', low_memory=False)\n",
    "googlemobtrends_df = pd.read_csv('Global_Mobility_Report.csv', low_memory=False)\n",
    "   \n",
    "# renaming the df column names to lowercase\n",
    "applemobtrends_df.columns = map(str.lower, applemobtrends_df.columns)\n",
    "googlemobtrends_df.columns = map(str.lower, googlemobtrends_df.columns)\n",
    "\n",
    "# changing province/state to state and country/region to country\n",
    "googlemobtrends_df = googlemobtrends_df.rename(columns={'country_region': 'country'})\n",
    "\n",
    "# filtering\n",
    "def goog_retail_and_recreation_percent_change(country):\n",
    "    country = str(country)\n",
    "    return googlemobtrends_df[googlemobtrends_df['country'].str.contains(country)].sort_values(by=['date', 'retail_and_recreation_percent_change_from_baseline'])\n",
    "\n",
    "def apple_mobility_trends(country):\n",
    "    country = str(country)\n",
    "    return applemobtrends_df[applemobtrends_df['region'].str.contains(country, na=False)].sort_values(by=['transportation_type'])\n",
    "\n",
    "\n",
    "interact(goog_retail_and_recreation_percent_change, country='Colombia')\n",
    "interact(apple_mobility_trends, country='Bulgaria')"
   ]
  },
  {
   "cell_type": "code",
   "execution_count": null,
   "metadata": {},
   "outputs": [],
   "source": []
  }
 ],
 "metadata": {
  "kernelspec": {
   "display_name": "Python 3",
   "language": "python",
   "name": "python3"
  },
  "language_info": {
   "codemirror_mode": {
    "name": "ipython",
    "version": 3
   },
   "file_extension": ".py",
   "mimetype": "text/x-python",
   "name": "python",
   "nbconvert_exporter": "python",
   "pygments_lexer": "ipython3",
   "version": "3.7.1"
  }
 },
 "nbformat": 4,
 "nbformat_minor": 2
}
